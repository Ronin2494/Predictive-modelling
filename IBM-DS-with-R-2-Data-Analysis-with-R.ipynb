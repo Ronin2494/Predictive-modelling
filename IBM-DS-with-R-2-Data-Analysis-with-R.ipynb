{
 "cells": [
  {
   "cell_type": "markdown",
   "metadata": {},
   "source": [
    "<center><img src=\"https://cf-courses-data.s3.us.cloud-object-storage.appdomain.cloud/assets/logos/SN_web_lightmode.png\" width=\"300\"></center><br/>\n",
    "\n",
    "# Assignment: Notebook for Peer Assignment\n",
    "\n",
    "Estimated time needed: 60 minutes\n"
   ]
  },
  {
   "cell_type": "markdown",
   "metadata": {},
   "source": [
    "# Assignment Scenario\n",
    "\n",
    "Congratulations! You have just been hired by a US Weather forecast firm as a data scientist.\n",
    "\n",
    "The company is considering the weather condition to help predict the possibility of precipitations, which involves using various local climatological variables, including temperature, wind speed, humidity, dew point, and pressure. The data you will be handling was collected by a NOAA weather station located at the John F. Kennedy International Airport in Queens, New York.\n",
    "\n",
    "Your task is to provide a high level analysis of weather data in JFK Airport. Your stakeholders want to understand the current and historical record of precipitations based on different variables. For now they are mainly interested in a macro-view of JFK Airport Weather, and how it relates to the possibility to rain because it will affect flight delays and etc.\n"
   ]
  },
  {
   "cell_type": "markdown",
   "metadata": {},
   "source": [
    "# Introduction\n",
    "\n",
    "This project relates to the NOAA Weather Dataset - JFK Airport (New York). The original dataset contains 114,546 hourly observations of 12 local climatological variables (such as temperature and wind speed) collected at JFK airport. This dataset can be obtained for free from the IBM Developer [Data Asset Exchange](https://developer.ibm.com/exchanges/data/all/jfk-weather-data/). \n",
    "\n",
    "For this project, you will be using a subset dataset, which contains 5727 rows (about 5% or original rows) and 9 columns. The end goal will be to predict the precipitation using some of the available features. In this project, you will practice reading data files, preprocessing data, creating models, improving models and evaluating them to ultimately choose the best model.\n",
    "\n"
   ]
  },
  {
   "cell_type": "markdown",
   "metadata": {},
   "source": [
    "\n",
    "## Table of Contents:\n",
    "\n",
    "Using this R notebook you will complete **10 tasks**:\n",
    "* [0. Import Modules](#cell0)\n",
    "* [1. Download and Unzip NOAA Weather Dataset](#cell1)\n",
    "* [2. Read Dataset into Project](#cell2)\n",
    "* [3. Select Subset of Columns](#cell3)\n",
    "* [4. Clean Up Columns](#cell4)\n",
    "* [5. Convert Columns to Numerical Types](#cell5)\n",
    "* [6. Rename Columns](#cell6)\n",
    "* [7. Exploratory Data Analysis](#cell7)\n",
    "* [8. Linear Regression](#cell8)\n",
    "* [9. Improve the Model](#cell9)\n",
    "* [10. Find Best Model](#cell10)\n",
    "\n",
    "\n",
    "<a id=\"cell0\"></a>\n",
    "## 0. Import required modules\n",
    "\n",
    "Tidymodels is a collection of packages that use tidyverse principles to easily do the entire modeling process from preprocessing initial data, to creating a model, to tunning hyperparameters. The tidymodels packages can be used to produce high quality statistical and machine learning models. Our Jupyter notebook platforms have a built-in Tidyverse, Tidymodels and rlang packages so we do not need to install these packages prior to loading library. However, if you decide to run this lab on your RStudio Desktop locally on your machine, you can remove the commented lines of code to install these packages before loading.\n",
    " \n"
   ]
  },
  {
   "cell_type": "code",
   "execution_count": 1,
   "metadata": {
    "scrolled": true
   },
   "outputs": [
    {
     "name": "stdout",
     "output_type": "stream",
     "text": [
      "\n",
      "The downloaded binary packages are in\n",
      "\t/var/folders/g9/ls79zdln1rl3jp8k_g_4p6s00000gn/T//RtmpjfodXC/downloaded_packages\n"
     ]
    },
    {
     "name": "stderr",
     "output_type": "stream",
     "text": [
      "also installing the dependencies ‘future.apply’, ‘progressr’, ‘SQUAREM’, ‘diagram’, ‘lava’, ‘listenv’, ‘parallelly’, ‘prodlim’, ‘future’, ‘warp’, ‘lhs’, ‘DiceDesign’, ‘patchwork’, ‘globals’, ‘clock’, ‘gower’, ‘ipred’, ‘timeDate’, ‘furrr’, ‘slider’, ‘GPfit’, ‘modelenv’, ‘dials’, ‘hardhat’, ‘infer’, ‘modeldata’, ‘parsnip’, ‘recipes’, ‘rsample’, ‘tune’, ‘workflows’, ‘workflowsets’, ‘yardstick’\n",
      "\n",
      "\n"
     ]
    },
    {
     "name": "stdout",
     "output_type": "stream",
     "text": [
      "\n",
      "The downloaded binary packages are in\n",
      "\t/var/folders/g9/ls79zdln1rl3jp8k_g_4p6s00000gn/T//RtmpjfodXC/downloaded_packages\n"
     ]
    }
   ],
   "source": [
    "# Install tidymodels if you haven't done so\n",
    "install.packages(\"rlang\")\n",
    "install.packages(\"tidymodels\")"
   ]
  },
  {
   "cell_type": "markdown",
   "metadata": {},
   "source": [
    "**Note: After installing the packages, restart the kernel. Without installing the packages again, load them. Tidyverse and Tidymodels will be the two main packages you will use.**\n"
   ]
  },
  {
   "cell_type": "code",
   "execution_count": 1,
   "metadata": {},
   "outputs": [
    {
     "name": "stderr",
     "output_type": "stream",
     "text": [
      "── \u001b[1mAttaching packages\u001b[22m ────────────────────────────────────── tidymodels 1.1.1 ──\n",
      "\n",
      "\u001b[32m✔\u001b[39m \u001b[34mbroom       \u001b[39m 1.0.5     \u001b[32m✔\u001b[39m \u001b[34mrecipes     \u001b[39m 1.0.8\n",
      "\u001b[32m✔\u001b[39m \u001b[34mdials       \u001b[39m 1.2.0     \u001b[32m✔\u001b[39m \u001b[34mrsample     \u001b[39m 1.2.0\n",
      "\u001b[32m✔\u001b[39m \u001b[34mdplyr       \u001b[39m 1.1.4     \u001b[32m✔\u001b[39m \u001b[34mtibble      \u001b[39m 3.2.1\n",
      "\u001b[32m✔\u001b[39m \u001b[34mggplot2     \u001b[39m 3.4.4     \u001b[32m✔\u001b[39m \u001b[34mtidyr       \u001b[39m 1.3.0\n",
      "\u001b[32m✔\u001b[39m \u001b[34minfer       \u001b[39m 1.0.5     \u001b[32m✔\u001b[39m \u001b[34mtune        \u001b[39m 1.1.2\n",
      "\u001b[32m✔\u001b[39m \u001b[34mmodeldata   \u001b[39m 1.2.0     \u001b[32m✔\u001b[39m \u001b[34mworkflows   \u001b[39m 1.1.3\n",
      "\u001b[32m✔\u001b[39m \u001b[34mparsnip     \u001b[39m 1.1.1     \u001b[32m✔\u001b[39m \u001b[34mworkflowsets\u001b[39m 1.0.1\n",
      "\u001b[32m✔\u001b[39m \u001b[34mpurrr       \u001b[39m 1.0.2     \u001b[32m✔\u001b[39m \u001b[34myardstick   \u001b[39m 1.2.0\n",
      "\n",
      "── \u001b[1mConflicts\u001b[22m ───────────────────────────────────────── tidymodels_conflicts() ──\n",
      "\u001b[31m✖\u001b[39m \u001b[34mpurrr\u001b[39m::\u001b[32mdiscard()\u001b[39m masks \u001b[34mscales\u001b[39m::discard()\n",
      "\u001b[31m✖\u001b[39m \u001b[34mdplyr\u001b[39m::\u001b[32mfilter()\u001b[39m  masks \u001b[34mstats\u001b[39m::filter()\n",
      "\u001b[31m✖\u001b[39m \u001b[34mdplyr\u001b[39m::\u001b[32mlag()\u001b[39m     masks \u001b[34mstats\u001b[39m::lag()\n",
      "\u001b[31m✖\u001b[39m \u001b[34mrecipes\u001b[39m::\u001b[32mstep()\u001b[39m  masks \u001b[34mstats\u001b[39m::step()\n",
      "\u001b[34m•\u001b[39m Use \u001b[32mtidymodels_prefer()\u001b[39m to resolve common conflicts.\n",
      "\n",
      "── \u001b[1mAttaching core tidyverse packages\u001b[22m ──────────────────────── tidyverse 2.0.0 ──\n",
      "\u001b[32m✔\u001b[39m \u001b[34mforcats  \u001b[39m 1.0.0     \u001b[32m✔\u001b[39m \u001b[34mreadr    \u001b[39m 2.1.4\n",
      "\u001b[32m✔\u001b[39m \u001b[34mlubridate\u001b[39m 1.9.3     \u001b[32m✔\u001b[39m \u001b[34mstringr  \u001b[39m 1.5.1\n",
      "── \u001b[1mConflicts\u001b[22m ────────────────────────────────────────── tidyverse_conflicts() ──\n",
      "\u001b[31m✖\u001b[39m \u001b[34mreadr\u001b[39m::\u001b[32mcol_factor()\u001b[39m masks \u001b[34mscales\u001b[39m::col_factor()\n",
      "\u001b[31m✖\u001b[39m \u001b[34mpurrr\u001b[39m::\u001b[32mdiscard()\u001b[39m    masks \u001b[34mscales\u001b[39m::discard()\n",
      "\u001b[31m✖\u001b[39m \u001b[34mdplyr\u001b[39m::\u001b[32mfilter()\u001b[39m     masks \u001b[34mstats\u001b[39m::filter()\n",
      "\u001b[31m✖\u001b[39m \u001b[34mstringr\u001b[39m::\u001b[32mfixed()\u001b[39m    masks \u001b[34mrecipes\u001b[39m::fixed()\n",
      "\u001b[31m✖\u001b[39m \u001b[34mdplyr\u001b[39m::\u001b[32mlag()\u001b[39m        masks \u001b[34mstats\u001b[39m::lag()\n",
      "\u001b[31m✖\u001b[39m \u001b[34mreadr\u001b[39m::\u001b[32mspec()\u001b[39m       masks \u001b[34myardstick\u001b[39m::spec()\n",
      "\u001b[36mℹ\u001b[39m Use the conflicted package (\u001b[3m\u001b[34m<http://conflicted.r-lib.org/>\u001b[39m\u001b[23m) to force all conflicts to become errors\n"
     ]
    }
   ],
   "source": [
    "# Library for modeling\n",
    "library(tidymodels)\n",
    "\n",
    "# Load tidyverse\n",
    "library(tidyverse)"
   ]
  },
  {
   "cell_type": "markdown",
   "metadata": {},
   "source": [
    "\n",
    "### Understand the Dataset\n",
    "\n",
    "The original NOAA JFK dataset contains 114,546 hourly observations of various local climatological variables (including temperature, wind speed, humidity, dew point, and pressure). \n",
    "\n",
    "In this project you will use a sample dataset, which is around 293 KB. [Link to the sample dataset](https://dax-cdn.cdn.appdomain.cloud/dax-noaa-weather-data-jfk-airport/1.1.4/noaa-weather-sample-data.tar.gz).\n",
    "\n",
    "The sample contains 5727 rows (about 5% or original rows) and 9 columns, which are:\n",
    "- DATE\n",
    "- HOURLYDewPointTempF\n",
    "- HOURLYRelativeHumidity\n",
    "- HOURLYDRYBULBTEMPF\n",
    "- HOURLYWETBULBTEMPF\n",
    "- HOURLYPrecip\n",
    "- HOURLYWindSpeed\n",
    "- HOURLYSeaLevelPressure\n",
    "- HOURLYStationPressure\n",
    "\n",
    "The original dataset is much bigger. Feel free to explore the original dataset. [Link to the original dataset.](https://dax-cdn.cdn.appdomain.cloud/dax-noaa-weather-data-jfk-airport/1.1.4/noaa_weather.html) \n",
    "\n",
    "For more information about the dataset, checkout the [preview](https://dax-cdn.cdn.appdomain.cloud/dax-noaa-weather-data-jfk-airport/1.1.4/data-preview/index.html?_ga=2.176781478.281508226.1616293518-1509963377.1616117067&cm_mc_uid=90945889198916153255549&cm_mc_sid_50200000=64650651616293516933) of NOAA Weather - JFK Airport.\n"
   ]
  },
  {
   "cell_type": "markdown",
   "metadata": {},
   "source": [
    "<a id=\"cell1\"></a>\n",
    "\n",
    "## 1. Download NOAA Weather Dataset\n",
    "\n",
    "Use the `download.file()` function to download the sample dataset from the URL below.\n",
    "\n",
    "URL = 'https://dax-cdn.cdn.appdomain.cloud/dax-noaa-weather-data-jfk-airport/1.1.4/noaa-weather-sample-data.tar.gz'\n"
   ]
  },
  {
   "cell_type": "code",
   "execution_count": 10,
   "metadata": {},
   "outputs": [],
   "source": [
    "url <- \"https://dax-cdn.cdn.appdomain.cloud/dax-noaa-weather-data-jfk-airport/1.1.4/noaa-weather-sample-data.tar.gz\"\n",
    "\n",
    "download.file(url, destfile = \"noaa-weather-sample-data.tar.gz\")"
   ]
  },
  {
   "cell_type": "markdown",
   "metadata": {},
   "source": [
    "Untar the zipped file.\n"
   ]
  },
  {
   "cell_type": "code",
   "execution_count": 11,
   "metadata": {},
   "outputs": [
    {
     "name": "stderr",
     "output_type": "stream",
     "text": [
      "Warning message in untar2(tarfile, files, list, exdir, restore_times):\n",
      "“using pax extended headers”\n"
     ]
    },
    {
     "data": {
      "text/html": [
       "0"
      ],
      "text/latex": [
       "0"
      ],
      "text/markdown": [
       "0"
      ],
      "text/plain": [
       "[1] 0"
      ]
     },
     "metadata": {},
     "output_type": "display_data"
    }
   ],
   "source": [
    "untarred <- untar(\"noaa-weather-sample-data.tar.gz\", tar = \"internal\")\n",
    "\n",
    "untarred"
   ]
  },
  {
   "cell_type": "markdown",
   "metadata": {},
   "source": [
    "<a id=\"cell2\"></a>\n",
    "## 2. Extract and Read into Project\n",
    "We start by reading in the raw dataset. You should specify the file name as \"noaa-weather-sample-data/jfk_weather_sample.csv\".\n"
   ]
  },
  {
   "cell_type": "code",
   "execution_count": 12,
   "metadata": {},
   "outputs": [
    {
     "name": "stderr",
     "output_type": "stream",
     "text": [
      "\u001b[1mRows: \u001b[22m\u001b[34m5727\u001b[39m \u001b[1mColumns: \u001b[22m\u001b[34m9\u001b[39m\n",
      "\u001b[36m──\u001b[39m \u001b[1mColumn specification\u001b[22m \u001b[36m────────────────────────────────────────────────────────\u001b[39m\n",
      "\u001b[1mDelimiter:\u001b[22m \",\"\n",
      "\u001b[31mchr\u001b[39m  (1): HOURLYPrecip\n",
      "\u001b[32mdbl\u001b[39m  (7): HOURLYDewPointTempF, HOURLYRelativeHumidity, HOURLYDRYBULBTEMPF, H...\n",
      "\u001b[34mdttm\u001b[39m (1): DATE\n",
      "\n",
      "\u001b[36mℹ\u001b[39m Use `spec()` to retrieve the full column specification for this data.\n",
      "\u001b[36mℹ\u001b[39m Specify the column types or set `show_col_types = FALSE` to quiet this message.\n"
     ]
    }
   ],
   "source": [
    "weather_df <- read_csv(\"noaa-weather-sample-data/jfk_weather_sample.csv\")"
   ]
  },
  {
   "cell_type": "markdown",
   "metadata": {},
   "source": [
    "Next, display the first few rows of the dataframe.\n"
   ]
  },
  {
   "cell_type": "code",
   "execution_count": 13,
   "metadata": {},
   "outputs": [
    {
     "data": {
      "text/html": [
       "<table class=\"dataframe\">\n",
       "<caption>A tibble: 6 × 9</caption>\n",
       "<thead>\n",
       "\t<tr><th scope=col>DATE</th><th scope=col>HOURLYDewPointTempF</th><th scope=col>HOURLYRelativeHumidity</th><th scope=col>HOURLYDRYBULBTEMPF</th><th scope=col>HOURLYWETBULBTEMPF</th><th scope=col>HOURLYPrecip</th><th scope=col>HOURLYWindSpeed</th><th scope=col>HOURLYSeaLevelPressure</th><th scope=col>HOURLYStationPressure</th></tr>\n",
       "\t<tr><th scope=col>&lt;dttm&gt;</th><th scope=col>&lt;dbl&gt;</th><th scope=col>&lt;dbl&gt;</th><th scope=col>&lt;dbl&gt;</th><th scope=col>&lt;dbl&gt;</th><th scope=col>&lt;chr&gt;</th><th scope=col>&lt;dbl&gt;</th><th scope=col>&lt;dbl&gt;</th><th scope=col>&lt;dbl&gt;</th></tr>\n",
       "</thead>\n",
       "<tbody>\n",
       "\t<tr><td>2015-07-25 13:51:00</td><td>60</td><td>46</td><td>83</td><td>68</td><td>0.00</td><td>13</td><td>30.01</td><td>29.99</td></tr>\n",
       "\t<tr><td>2016-11-18 23:51:00</td><td>34</td><td>48</td><td>53</td><td>44</td><td>0.00</td><td> 6</td><td>30.05</td><td>30.03</td></tr>\n",
       "\t<tr><td>2013-01-06 08:51:00</td><td>33</td><td>89</td><td>36</td><td>35</td><td>0.00</td><td>13</td><td>30.14</td><td>30.12</td></tr>\n",
       "\t<tr><td>2011-01-27 16:51:00</td><td>18</td><td>48</td><td>36</td><td>30</td><td>0.00</td><td>14</td><td>29.82</td><td>29.80</td></tr>\n",
       "\t<tr><td>2015-01-03 12:16:00</td><td>27</td><td>61</td><td>39</td><td>34</td><td>T   </td><td>11</td><td>   NA</td><td>30.50</td></tr>\n",
       "\t<tr><td>2013-02-15 20:51:00</td><td>35</td><td>79</td><td>41</td><td>38</td><td>0.00</td><td> 6</td><td>29.94</td><td>29.92</td></tr>\n",
       "</tbody>\n",
       "</table>\n"
      ],
      "text/latex": [
       "A tibble: 6 × 9\n",
       "\\begin{tabular}{lllllllll}\n",
       " DATE & HOURLYDewPointTempF & HOURLYRelativeHumidity & HOURLYDRYBULBTEMPF & HOURLYWETBULBTEMPF & HOURLYPrecip & HOURLYWindSpeed & HOURLYSeaLevelPressure & HOURLYStationPressure\\\\\n",
       " <dttm> & <dbl> & <dbl> & <dbl> & <dbl> & <chr> & <dbl> & <dbl> & <dbl>\\\\\n",
       "\\hline\n",
       "\t 2015-07-25 13:51:00 & 60 & 46 & 83 & 68 & 0.00 & 13 & 30.01 & 29.99\\\\\n",
       "\t 2016-11-18 23:51:00 & 34 & 48 & 53 & 44 & 0.00 &  6 & 30.05 & 30.03\\\\\n",
       "\t 2013-01-06 08:51:00 & 33 & 89 & 36 & 35 & 0.00 & 13 & 30.14 & 30.12\\\\\n",
       "\t 2011-01-27 16:51:00 & 18 & 48 & 36 & 30 & 0.00 & 14 & 29.82 & 29.80\\\\\n",
       "\t 2015-01-03 12:16:00 & 27 & 61 & 39 & 34 & T    & 11 &    NA & 30.50\\\\\n",
       "\t 2013-02-15 20:51:00 & 35 & 79 & 41 & 38 & 0.00 &  6 & 29.94 & 29.92\\\\\n",
       "\\end{tabular}\n"
      ],
      "text/markdown": [
       "\n",
       "A tibble: 6 × 9\n",
       "\n",
       "| DATE &lt;dttm&gt; | HOURLYDewPointTempF &lt;dbl&gt; | HOURLYRelativeHumidity &lt;dbl&gt; | HOURLYDRYBULBTEMPF &lt;dbl&gt; | HOURLYWETBULBTEMPF &lt;dbl&gt; | HOURLYPrecip &lt;chr&gt; | HOURLYWindSpeed &lt;dbl&gt; | HOURLYSeaLevelPressure &lt;dbl&gt; | HOURLYStationPressure &lt;dbl&gt; |\n",
       "|---|---|---|---|---|---|---|---|---|\n",
       "| 2015-07-25 13:51:00 | 60 | 46 | 83 | 68 | 0.00 | 13 | 30.01 | 29.99 |\n",
       "| 2016-11-18 23:51:00 | 34 | 48 | 53 | 44 | 0.00 |  6 | 30.05 | 30.03 |\n",
       "| 2013-01-06 08:51:00 | 33 | 89 | 36 | 35 | 0.00 | 13 | 30.14 | 30.12 |\n",
       "| 2011-01-27 16:51:00 | 18 | 48 | 36 | 30 | 0.00 | 14 | 29.82 | 29.80 |\n",
       "| 2015-01-03 12:16:00 | 27 | 61 | 39 | 34 | T    | 11 |    NA | 30.50 |\n",
       "| 2013-02-15 20:51:00 | 35 | 79 | 41 | 38 | 0.00 |  6 | 29.94 | 29.92 |\n",
       "\n"
      ],
      "text/plain": [
       "  DATE                HOURLYDewPointTempF HOURLYRelativeHumidity\n",
       "1 2015-07-25 13:51:00 60                  46                    \n",
       "2 2016-11-18 23:51:00 34                  48                    \n",
       "3 2013-01-06 08:51:00 33                  89                    \n",
       "4 2011-01-27 16:51:00 18                  48                    \n",
       "5 2015-01-03 12:16:00 27                  61                    \n",
       "6 2013-02-15 20:51:00 35                  79                    \n",
       "  HOURLYDRYBULBTEMPF HOURLYWETBULBTEMPF HOURLYPrecip HOURLYWindSpeed\n",
       "1 83                 68                 0.00         13             \n",
       "2 53                 44                 0.00          6             \n",
       "3 36                 35                 0.00         13             \n",
       "4 36                 30                 0.00         14             \n",
       "5 39                 34                 T            11             \n",
       "6 41                 38                 0.00          6             \n",
       "  HOURLYSeaLevelPressure HOURLYStationPressure\n",
       "1 30.01                  29.99                \n",
       "2 30.05                  30.03                \n",
       "3 30.14                  30.12                \n",
       "4 29.82                  29.80                \n",
       "5    NA                  30.50                \n",
       "6 29.94                  29.92                "
      ]
     },
     "metadata": {},
     "output_type": "display_data"
    }
   ],
   "source": [
    "head(weather_df, 6)"
   ]
  },
  {
   "cell_type": "markdown",
   "metadata": {},
   "source": [
    "Also, take a `glimpse` of the dataset to see the different column data types and make sure it is the correct subset dataset with about 5700 rows and 9 columns.\n"
   ]
  },
  {
   "cell_type": "code",
   "execution_count": 14,
   "metadata": {},
   "outputs": [
    {
     "name": "stdout",
     "output_type": "stream",
     "text": [
      "Rows: 5,727\n",
      "Columns: 9\n",
      "$ DATE                   \u001b[3m\u001b[90m<dttm>\u001b[39m\u001b[23m 2015-07-25 13:51:00, 2016-11-18 23:51:00, 2013…\n",
      "$ HOURLYDewPointTempF    \u001b[3m\u001b[90m<dbl>\u001b[39m\u001b[23m 60, 34, 33, 18, 27, 35, 4, 14, 51, 71, 76, 19, …\n",
      "$ HOURLYRelativeHumidity \u001b[3m\u001b[90m<dbl>\u001b[39m\u001b[23m 46, 48, 89, 48, 61, 79, 51, 65, 90, 94, 79, 37,…\n",
      "$ HOURLYDRYBULBTEMPF     \u001b[3m\u001b[90m<dbl>\u001b[39m\u001b[23m 83, 53, 36, 36, 39, 41, 19, 24, 54, 73, 83, 44,…\n",
      "$ HOURLYWETBULBTEMPF     \u001b[3m\u001b[90m<dbl>\u001b[39m\u001b[23m 68, 44, 35, 30, 34, 38, 15, 21, 52, 72, 78, 35,…\n",
      "$ HOURLYPrecip           \u001b[3m\u001b[90m<chr>\u001b[39m\u001b[23m \"0.00\", \"0.00\", \"0.00\", \"0.00\", \"T\", \"0.00\", \"0…\n",
      "$ HOURLYWindSpeed        \u001b[3m\u001b[90m<dbl>\u001b[39m\u001b[23m 13, 6, 13, 14, 11, 6, 0, 11, 11, 5, 21, 7, 17, …\n",
      "$ HOURLYSeaLevelPressure \u001b[3m\u001b[90m<dbl>\u001b[39m\u001b[23m 30.01, 30.05, 30.14, 29.82, NA, 29.94, 30.42, 3…\n",
      "$ HOURLYStationPressure  \u001b[3m\u001b[90m<dbl>\u001b[39m\u001b[23m 29.99, 30.03, 30.12, 29.80, 30.50, 29.92, 30.40…\n"
     ]
    }
   ],
   "source": [
    "glimpse(weather_df)"
   ]
  },
  {
   "cell_type": "markdown",
   "metadata": {},
   "source": [
    "<a id=\"cell3\"></a>\n",
    "## 3. Select Subset of Columns\n",
    "\n",
    "The end goal of this project will be to predict `HOURLYprecip` (precipitation) using a few other variables. Before you can do this, you first need to preprocess the dataset. Section 3 to section 6 focuses on preprocessing.\n",
    "\n",
    "The first step in preprocessing is to select a subset of data columns and inspect the column types.\n",
    "\n",
    "The key columns that we will explore in this project are:\n",
    "- HOURLYRelativeHumidity\n",
    "- HOURLYDRYBULBTEMPF\n",
    "- HOURLYPrecip\n",
    "- HOURLYWindSpeed\n",
    "- HOURLYStationPressure\n",
    "\n",
    "Data Glossary:\n",
    "- 'HOURLYRelativeHumidity' is the relative humidity given to the nearest whole percentage.\n",
    "- 'HOURLYDRYBULBTEMPF' is the dry-bulb temperature and is commonly used as the standard air temperature reported. It is given here in whole degrees Fahrenheit.\n",
    "- 'HOURLYPrecip' is the amount of precipitation in inches to hundredths over the past hour. For certain automated stations, precipitation will be reported at sub-hourly intervals (e.g. every 15 or 20 minutes) as an accumulated amount of all precipitation within the preceding hour. A “T” indicates a trace amount of precipitation.\n",
    "- 'HOURLYWindSpeed' is the speed of the wind at the time of observation given in miles per hour (mph).\n",
    "- 'HOURLYStationPressure' is the atmospheric pressure observed at the station during the time of observation. Given in inches of Mercury (in Hg).\n",
    "\n",
    "`Select` those five columns and store the modified dataframe as a new variable.\n"
   ]
  },
  {
   "cell_type": "code",
   "execution_count": 261,
   "metadata": {},
   "outputs": [],
   "source": [
    "weath_df <- weather_df %>%\n",
    "                select(HOURLYRelativeHumidity, HOURLYDRYBULBTEMPF, HOURLYPrecip, HOURLYWindSpeed, HOURLYStationPressure)"
   ]
  },
  {
   "cell_type": "markdown",
   "metadata": {},
   "source": [
    "Show the first 10 rows of this new dataframe.\n"
   ]
  },
  {
   "cell_type": "code",
   "execution_count": 262,
   "metadata": {},
   "outputs": [
    {
     "data": {
      "text/html": [
       "<table class=\"dataframe\">\n",
       "<caption>A tibble: 10 × 5</caption>\n",
       "<thead>\n",
       "\t<tr><th scope=col>HOURLYRelativeHumidity</th><th scope=col>HOURLYDRYBULBTEMPF</th><th scope=col>HOURLYPrecip</th><th scope=col>HOURLYWindSpeed</th><th scope=col>HOURLYStationPressure</th></tr>\n",
       "\t<tr><th scope=col>&lt;dbl&gt;</th><th scope=col>&lt;dbl&gt;</th><th scope=col>&lt;chr&gt;</th><th scope=col>&lt;dbl&gt;</th><th scope=col>&lt;dbl&gt;</th></tr>\n",
       "</thead>\n",
       "<tbody>\n",
       "\t<tr><td>46</td><td>83</td><td>0.00</td><td>13</td><td>29.99</td></tr>\n",
       "\t<tr><td>48</td><td>53</td><td>0.00</td><td> 6</td><td>30.03</td></tr>\n",
       "\t<tr><td>89</td><td>36</td><td>0.00</td><td>13</td><td>30.12</td></tr>\n",
       "\t<tr><td>48</td><td>36</td><td>0.00</td><td>14</td><td>29.80</td></tr>\n",
       "\t<tr><td>61</td><td>39</td><td>T   </td><td>11</td><td>30.50</td></tr>\n",
       "\t<tr><td>79</td><td>41</td><td>0.00</td><td> 6</td><td>29.92</td></tr>\n",
       "\t<tr><td>51</td><td>19</td><td>0.00</td><td> 0</td><td>30.40</td></tr>\n",
       "\t<tr><td>65</td><td>24</td><td>0.00</td><td>11</td><td>30.35</td></tr>\n",
       "\t<tr><td>90</td><td>54</td><td>0.06</td><td>11</td><td>30.03</td></tr>\n",
       "\t<tr><td>94</td><td>73</td><td>NA  </td><td> 5</td><td>29.91</td></tr>\n",
       "</tbody>\n",
       "</table>\n"
      ],
      "text/latex": [
       "A tibble: 10 × 5\n",
       "\\begin{tabular}{lllll}\n",
       " HOURLYRelativeHumidity & HOURLYDRYBULBTEMPF & HOURLYPrecip & HOURLYWindSpeed & HOURLYStationPressure\\\\\n",
       " <dbl> & <dbl> & <chr> & <dbl> & <dbl>\\\\\n",
       "\\hline\n",
       "\t 46 & 83 & 0.00 & 13 & 29.99\\\\\n",
       "\t 48 & 53 & 0.00 &  6 & 30.03\\\\\n",
       "\t 89 & 36 & 0.00 & 13 & 30.12\\\\\n",
       "\t 48 & 36 & 0.00 & 14 & 29.80\\\\\n",
       "\t 61 & 39 & T    & 11 & 30.50\\\\\n",
       "\t 79 & 41 & 0.00 &  6 & 29.92\\\\\n",
       "\t 51 & 19 & 0.00 &  0 & 30.40\\\\\n",
       "\t 65 & 24 & 0.00 & 11 & 30.35\\\\\n",
       "\t 90 & 54 & 0.06 & 11 & 30.03\\\\\n",
       "\t 94 & 73 & NA   &  5 & 29.91\\\\\n",
       "\\end{tabular}\n"
      ],
      "text/markdown": [
       "\n",
       "A tibble: 10 × 5\n",
       "\n",
       "| HOURLYRelativeHumidity &lt;dbl&gt; | HOURLYDRYBULBTEMPF &lt;dbl&gt; | HOURLYPrecip &lt;chr&gt; | HOURLYWindSpeed &lt;dbl&gt; | HOURLYStationPressure &lt;dbl&gt; |\n",
       "|---|---|---|---|---|\n",
       "| 46 | 83 | 0.00 | 13 | 29.99 |\n",
       "| 48 | 53 | 0.00 |  6 | 30.03 |\n",
       "| 89 | 36 | 0.00 | 13 | 30.12 |\n",
       "| 48 | 36 | 0.00 | 14 | 29.80 |\n",
       "| 61 | 39 | T    | 11 | 30.50 |\n",
       "| 79 | 41 | 0.00 |  6 | 29.92 |\n",
       "| 51 | 19 | 0.00 |  0 | 30.40 |\n",
       "| 65 | 24 | 0.00 | 11 | 30.35 |\n",
       "| 90 | 54 | 0.06 | 11 | 30.03 |\n",
       "| 94 | 73 | NA   |  5 | 29.91 |\n",
       "\n"
      ],
      "text/plain": [
       "   HOURLYRelativeHumidity HOURLYDRYBULBTEMPF HOURLYPrecip HOURLYWindSpeed\n",
       "1  46                     83                 0.00         13             \n",
       "2  48                     53                 0.00          6             \n",
       "3  89                     36                 0.00         13             \n",
       "4  48                     36                 0.00         14             \n",
       "5  61                     39                 T            11             \n",
       "6  79                     41                 0.00          6             \n",
       "7  51                     19                 0.00          0             \n",
       "8  65                     24                 0.00         11             \n",
       "9  90                     54                 0.06         11             \n",
       "10 94                     73                 NA            5             \n",
       "   HOURLYStationPressure\n",
       "1  29.99                \n",
       "2  30.03                \n",
       "3  30.12                \n",
       "4  29.80                \n",
       "5  30.50                \n",
       "6  29.92                \n",
       "7  30.40                \n",
       "8  30.35                \n",
       "9  30.03                \n",
       "10 29.91                "
      ]
     },
     "metadata": {},
     "output_type": "display_data"
    }
   ],
   "source": [
    "head(weath_df, 10)"
   ]
  },
  {
   "cell_type": "markdown",
   "metadata": {},
   "source": [
    "<a id=\"cell4\"></a>\n",
    "## 4. Clean Up Columns\n",
    "\n",
    "From the dataframe preview above, we can see that the column `HOURLYPrecip` - which is the hourly measure of precipitation levels - contains both `NA` and `T` values. `T` specifies *trace amounts of precipitation* (meaning essentially no precipitation), while `NA` means *not available*, and is used to denote missing values. Additionally, some values also have \"s\" at the end of them, indicating that the precipitation was snow. \n",
    "\n",
    "Inspect the unique values present in the column `HOURLYPrecip` (with `unique(dataframe$column)`) to see these values.\n"
   ]
  },
  {
   "cell_type": "code",
   "execution_count": 263,
   "metadata": {},
   "outputs": [
    {
     "data": {
      "text/html": [
       "<style>\n",
       ".list-inline {list-style: none; margin:0; padding: 0}\n",
       ".list-inline>li {display: inline-block}\n",
       ".list-inline>li:not(:last-child)::after {content: \"\\00b7\"; padding: 0 .5ex}\n",
       "</style>\n",
       "<ol class=list-inline><li>'0.00'</li><li>'T'</li><li>'0.06'</li><li>NA</li><li>'0.03'</li><li>'0.02'</li><li>'0.08'</li><li>'0.01'</li><li>'0.07'</li><li>'0.16'</li><li>'0.09'</li><li>'0.22'</li><li>'0.02s'</li><li>'0.24'</li><li>'0.18'</li><li>'0.05'</li><li>'0.04'</li><li>'0.09s'</li><li>'0.11'</li><li>'0.14'</li><li>'0.25'</li><li>'0.10'</li><li>'0.01s'</li><li>'0.58'</li><li>'0.12'</li><li>'0.13'</li><li>'0.46'</li><li>'1.07'</li><li>'1.19'</li><li>'0.34'</li><li>'0.20'</li><li>'0.36s'</li><li>'0.42'</li><li>'0.17'</li><li>'0.27'</li><li>'0.35'</li><li>'0.31'</li><li>'0.33'</li><li>'0.23'</li><li>'0.26'</li><li>'0.28'</li><li>'0.75'</li><li>'0.19'</li><li>'0.36'</li><li>'0.03s'</li><li>'0.07s'</li><li>'0.54'</li><li>'0.59'</li><li>'0.21'</li></ol>\n"
      ],
      "text/latex": [
       "\\begin{enumerate*}\n",
       "\\item '0.00'\n",
       "\\item 'T'\n",
       "\\item '0.06'\n",
       "\\item NA\n",
       "\\item '0.03'\n",
       "\\item '0.02'\n",
       "\\item '0.08'\n",
       "\\item '0.01'\n",
       "\\item '0.07'\n",
       "\\item '0.16'\n",
       "\\item '0.09'\n",
       "\\item '0.22'\n",
       "\\item '0.02s'\n",
       "\\item '0.24'\n",
       "\\item '0.18'\n",
       "\\item '0.05'\n",
       "\\item '0.04'\n",
       "\\item '0.09s'\n",
       "\\item '0.11'\n",
       "\\item '0.14'\n",
       "\\item '0.25'\n",
       "\\item '0.10'\n",
       "\\item '0.01s'\n",
       "\\item '0.58'\n",
       "\\item '0.12'\n",
       "\\item '0.13'\n",
       "\\item '0.46'\n",
       "\\item '1.07'\n",
       "\\item '1.19'\n",
       "\\item '0.34'\n",
       "\\item '0.20'\n",
       "\\item '0.36s'\n",
       "\\item '0.42'\n",
       "\\item '0.17'\n",
       "\\item '0.27'\n",
       "\\item '0.35'\n",
       "\\item '0.31'\n",
       "\\item '0.33'\n",
       "\\item '0.23'\n",
       "\\item '0.26'\n",
       "\\item '0.28'\n",
       "\\item '0.75'\n",
       "\\item '0.19'\n",
       "\\item '0.36'\n",
       "\\item '0.03s'\n",
       "\\item '0.07s'\n",
       "\\item '0.54'\n",
       "\\item '0.59'\n",
       "\\item '0.21'\n",
       "\\end{enumerate*}\n"
      ],
      "text/markdown": [
       "1. '0.00'\n",
       "2. 'T'\n",
       "3. '0.06'\n",
       "4. NA\n",
       "5. '0.03'\n",
       "6. '0.02'\n",
       "7. '0.08'\n",
       "8. '0.01'\n",
       "9. '0.07'\n",
       "10. '0.16'\n",
       "11. '0.09'\n",
       "12. '0.22'\n",
       "13. '0.02s'\n",
       "14. '0.24'\n",
       "15. '0.18'\n",
       "16. '0.05'\n",
       "17. '0.04'\n",
       "18. '0.09s'\n",
       "19. '0.11'\n",
       "20. '0.14'\n",
       "21. '0.25'\n",
       "22. '0.10'\n",
       "23. '0.01s'\n",
       "24. '0.58'\n",
       "25. '0.12'\n",
       "26. '0.13'\n",
       "27. '0.46'\n",
       "28. '1.07'\n",
       "29. '1.19'\n",
       "30. '0.34'\n",
       "31. '0.20'\n",
       "32. '0.36s'\n",
       "33. '0.42'\n",
       "34. '0.17'\n",
       "35. '0.27'\n",
       "36. '0.35'\n",
       "37. '0.31'\n",
       "38. '0.33'\n",
       "39. '0.23'\n",
       "40. '0.26'\n",
       "41. '0.28'\n",
       "42. '0.75'\n",
       "43. '0.19'\n",
       "44. '0.36'\n",
       "45. '0.03s'\n",
       "46. '0.07s'\n",
       "47. '0.54'\n",
       "48. '0.59'\n",
       "49. '0.21'\n",
       "\n",
       "\n"
      ],
      "text/plain": [
       " [1] \"0.00\"  \"T\"     \"0.06\"  NA      \"0.03\"  \"0.02\"  \"0.08\"  \"0.01\"  \"0.07\" \n",
       "[10] \"0.16\"  \"0.09\"  \"0.22\"  \"0.02s\" \"0.24\"  \"0.18\"  \"0.05\"  \"0.04\"  \"0.09s\"\n",
       "[19] \"0.11\"  \"0.14\"  \"0.25\"  \"0.10\"  \"0.01s\" \"0.58\"  \"0.12\"  \"0.13\"  \"0.46\" \n",
       "[28] \"1.07\"  \"1.19\"  \"0.34\"  \"0.20\"  \"0.36s\" \"0.42\"  \"0.17\"  \"0.27\"  \"0.35\" \n",
       "[37] \"0.31\"  \"0.33\"  \"0.23\"  \"0.26\"  \"0.28\"  \"0.75\"  \"0.19\"  \"0.36\"  \"0.03s\"\n",
       "[46] \"0.07s\" \"0.54\"  \"0.59\"  \"0.21\" "
      ]
     },
     "metadata": {},
     "output_type": "display_data"
    }
   ],
   "source": [
    "# weath_df %>%\n",
    "#     reframe(unique(HOURLYPrecip), .group = \"keep\")\n",
    "\n",
    "#or \n",
    "\n",
    "unique(weath_df$HOURLYPrecip)"
   ]
  },
  {
   "cell_type": "markdown",
   "metadata": {},
   "source": [
    "Having characters in values (like the \"T\" and \"s\" that you see in the unique values) will cause problems when you create a model because values for precipitation should be numerical. So you need to fix these values that have characters. \n",
    "\n",
    "Now, for the column `HOURLYPrecip`:\n",
    "1. Replace all the `T` values with \"0.0\" and \n",
    "2. Remove \"s\" from values like \"0.02s\". In R, you can use the method `str_remove(column, pattern = \"s$\")` to remove the character \"s\" from the end of values. The \"$\" tells R to match to the end of values. The `pattern` is a regex pattern. Look at [here](https://www.rdocumentation.org/packages/stringi/versions/1.5.3/topics/about_search_regex) for more information about regex and matching to strings in R.\n",
    "\n",
    "Remember that you can use `tidyverse`'s  `mutate()` to update columns.\n",
    "\n",
    "You can check your work by checking if unique values of `HOURLYPrecip` still contain any `T` or `s`. Store the modified dataframe as a new variable.\n"
   ]
  },
  {
   "cell_type": "code",
   "execution_count": 97,
   "metadata": {},
   "outputs": [
    {
     "data": {
      "text/html": [
       "<style>\n",
       ".list-inline {list-style: none; margin:0; padding: 0}\n",
       ".list-inline>li {display: inline-block}\n",
       ".list-inline>li:not(:last-child)::after {content: \"\\00b7\"; padding: 0 .5ex}\n",
       "</style>\n",
       "<ol class=list-inline><li>'0.00'</li><li>'0.06'</li><li>NA</li><li>'0.03'</li><li>'0.02'</li><li>'0.08'</li><li>'0.01'</li><li>'0.07'</li><li>'0.16'</li><li>'0.09'</li><li>'0.22'</li><li>'0.24'</li><li>'0.18'</li><li>'0.05'</li><li>'0.04'</li><li>'0.11'</li><li>'0.14'</li><li>'0.25'</li><li>'0.10'</li><li>'0.58'</li><li>'0.12'</li><li>'0.13'</li><li>'0.46'</li><li>'1.07'</li><li>'1.19'</li><li>'0.34'</li><li>'0.20'</li><li>'0.36'</li><li>'0.42'</li><li>'0.17'</li><li>'0.27'</li><li>'0.35'</li><li>'0.31'</li><li>'0.33'</li><li>'0.23'</li><li>'0.26'</li><li>'0.28'</li><li>'0.75'</li><li>'0.19'</li><li>'0.54'</li><li>'0.59'</li><li>'0.21'</li></ol>\n"
      ],
      "text/latex": [
       "\\begin{enumerate*}\n",
       "\\item '0.00'\n",
       "\\item '0.06'\n",
       "\\item NA\n",
       "\\item '0.03'\n",
       "\\item '0.02'\n",
       "\\item '0.08'\n",
       "\\item '0.01'\n",
       "\\item '0.07'\n",
       "\\item '0.16'\n",
       "\\item '0.09'\n",
       "\\item '0.22'\n",
       "\\item '0.24'\n",
       "\\item '0.18'\n",
       "\\item '0.05'\n",
       "\\item '0.04'\n",
       "\\item '0.11'\n",
       "\\item '0.14'\n",
       "\\item '0.25'\n",
       "\\item '0.10'\n",
       "\\item '0.58'\n",
       "\\item '0.12'\n",
       "\\item '0.13'\n",
       "\\item '0.46'\n",
       "\\item '1.07'\n",
       "\\item '1.19'\n",
       "\\item '0.34'\n",
       "\\item '0.20'\n",
       "\\item '0.36'\n",
       "\\item '0.42'\n",
       "\\item '0.17'\n",
       "\\item '0.27'\n",
       "\\item '0.35'\n",
       "\\item '0.31'\n",
       "\\item '0.33'\n",
       "\\item '0.23'\n",
       "\\item '0.26'\n",
       "\\item '0.28'\n",
       "\\item '0.75'\n",
       "\\item '0.19'\n",
       "\\item '0.54'\n",
       "\\item '0.59'\n",
       "\\item '0.21'\n",
       "\\end{enumerate*}\n"
      ],
      "text/markdown": [
       "1. '0.00'\n",
       "2. '0.06'\n",
       "3. NA\n",
       "4. '0.03'\n",
       "5. '0.02'\n",
       "6. '0.08'\n",
       "7. '0.01'\n",
       "8. '0.07'\n",
       "9. '0.16'\n",
       "10. '0.09'\n",
       "11. '0.22'\n",
       "12. '0.24'\n",
       "13. '0.18'\n",
       "14. '0.05'\n",
       "15. '0.04'\n",
       "16. '0.11'\n",
       "17. '0.14'\n",
       "18. '0.25'\n",
       "19. '0.10'\n",
       "20. '0.58'\n",
       "21. '0.12'\n",
       "22. '0.13'\n",
       "23. '0.46'\n",
       "24. '1.07'\n",
       "25. '1.19'\n",
       "26. '0.34'\n",
       "27. '0.20'\n",
       "28. '0.36'\n",
       "29. '0.42'\n",
       "30. '0.17'\n",
       "31. '0.27'\n",
       "32. '0.35'\n",
       "33. '0.31'\n",
       "34. '0.33'\n",
       "35. '0.23'\n",
       "36. '0.26'\n",
       "37. '0.28'\n",
       "38. '0.75'\n",
       "39. '0.19'\n",
       "40. '0.54'\n",
       "41. '0.59'\n",
       "42. '0.21'\n",
       "\n",
       "\n"
      ],
      "text/plain": [
       " [1] \"0.00\" \"0.06\" NA     \"0.03\" \"0.02\" \"0.08\" \"0.01\" \"0.07\" \"0.16\" \"0.09\"\n",
       "[11] \"0.22\" \"0.24\" \"0.18\" \"0.05\" \"0.04\" \"0.11\" \"0.14\" \"0.25\" \"0.10\" \"0.58\"\n",
       "[21] \"0.12\" \"0.13\" \"0.46\" \"1.07\" \"1.19\" \"0.34\" \"0.20\" \"0.36\" \"0.42\" \"0.17\"\n",
       "[31] \"0.27\" \"0.35\" \"0.31\" \"0.33\" \"0.23\" \"0.26\" \"0.28\" \"0.75\" \"0.19\" \"0.54\"\n",
       "[41] \"0.59\" \"0.21\""
      ]
     },
     "metadata": {},
     "output_type": "display_data"
    }
   ],
   "source": [
    "wet_df <- weath_df %>%\n",
    "    mutate(HOURLYPrecip = replace(HOURLYPrecip, HOURLYPrecip == \"T\", \"0.00\"), HOURLYPrecip = str_remove(HOURLYPrecip, pattern = \"s$\"))\n",
    "    \n",
    "\n",
    "unique(wet_df$HOURLYPrecip)"
   ]
  },
  {
   "cell_type": "code",
   "execution_count": 98,
   "metadata": {},
   "outputs": [
    {
     "data": {
      "text/html": [
       "<style>\n",
       ".list-inline {list-style: none; margin:0; padding: 0}\n",
       ".list-inline>li {display: inline-block}\n",
       ".list-inline>li:not(:last-child)::after {content: \"\\00b7\"; padding: 0 .5ex}\n",
       "</style>\n",
       "<ol class=list-inline><li>'0.00'</li><li>'0.00'</li><li>'0.00'</li><li>'0.00'</li><li>'0.00'</li><li>'0.00'</li><li>'0.00'</li><li>'0.00'</li><li>'0.06'</li><li>NA</li><li>NA</li><li>'0.00'</li><li>'0.00'</li><li>'0.00'</li><li>'0.00'</li><li>'0.00'</li><li>'0.00'</li><li>NA</li><li>'0.03'</li><li>NA</li><li>'0.03'</li><li>NA</li><li>'0.00'</li><li>'0.00'</li><li>'0.02'</li><li>NA</li><li>'0.00'</li><li>NA</li><li>'0.00'</li><li>'0.00'</li><li>'0.00'</li><li>NA</li><li>'0.00'</li><li>'0.00'</li><li>'0.00'</li><li>NA</li><li>'0.00'</li><li>'0.00'</li><li>'0.08'</li><li>NA</li><li>'0.00'</li><li>NA</li><li>NA</li><li>'0.00'</li><li>'0.00'</li><li>'0.00'</li><li>'0.01'</li><li>'0.00'</li><li>'0.00'</li><li>NA</li></ol>\n"
      ],
      "text/latex": [
       "\\begin{enumerate*}\n",
       "\\item '0.00'\n",
       "\\item '0.00'\n",
       "\\item '0.00'\n",
       "\\item '0.00'\n",
       "\\item '0.00'\n",
       "\\item '0.00'\n",
       "\\item '0.00'\n",
       "\\item '0.00'\n",
       "\\item '0.06'\n",
       "\\item NA\n",
       "\\item NA\n",
       "\\item '0.00'\n",
       "\\item '0.00'\n",
       "\\item '0.00'\n",
       "\\item '0.00'\n",
       "\\item '0.00'\n",
       "\\item '0.00'\n",
       "\\item NA\n",
       "\\item '0.03'\n",
       "\\item NA\n",
       "\\item '0.03'\n",
       "\\item NA\n",
       "\\item '0.00'\n",
       "\\item '0.00'\n",
       "\\item '0.02'\n",
       "\\item NA\n",
       "\\item '0.00'\n",
       "\\item NA\n",
       "\\item '0.00'\n",
       "\\item '0.00'\n",
       "\\item '0.00'\n",
       "\\item NA\n",
       "\\item '0.00'\n",
       "\\item '0.00'\n",
       "\\item '0.00'\n",
       "\\item NA\n",
       "\\item '0.00'\n",
       "\\item '0.00'\n",
       "\\item '0.08'\n",
       "\\item NA\n",
       "\\item '0.00'\n",
       "\\item NA\n",
       "\\item NA\n",
       "\\item '0.00'\n",
       "\\item '0.00'\n",
       "\\item '0.00'\n",
       "\\item '0.01'\n",
       "\\item '0.00'\n",
       "\\item '0.00'\n",
       "\\item NA\n",
       "\\end{enumerate*}\n"
      ],
      "text/markdown": [
       "1. '0.00'\n",
       "2. '0.00'\n",
       "3. '0.00'\n",
       "4. '0.00'\n",
       "5. '0.00'\n",
       "6. '0.00'\n",
       "7. '0.00'\n",
       "8. '0.00'\n",
       "9. '0.06'\n",
       "10. NA\n",
       "11. NA\n",
       "12. '0.00'\n",
       "13. '0.00'\n",
       "14. '0.00'\n",
       "15. '0.00'\n",
       "16. '0.00'\n",
       "17. '0.00'\n",
       "18. NA\n",
       "19. '0.03'\n",
       "20. NA\n",
       "21. '0.03'\n",
       "22. NA\n",
       "23. '0.00'\n",
       "24. '0.00'\n",
       "25. '0.02'\n",
       "26. NA\n",
       "27. '0.00'\n",
       "28. NA\n",
       "29. '0.00'\n",
       "30. '0.00'\n",
       "31. '0.00'\n",
       "32. NA\n",
       "33. '0.00'\n",
       "34. '0.00'\n",
       "35. '0.00'\n",
       "36. NA\n",
       "37. '0.00'\n",
       "38. '0.00'\n",
       "39. '0.08'\n",
       "40. NA\n",
       "41. '0.00'\n",
       "42. NA\n",
       "43. NA\n",
       "44. '0.00'\n",
       "45. '0.00'\n",
       "46. '0.00'\n",
       "47. '0.01'\n",
       "48. '0.00'\n",
       "49. '0.00'\n",
       "50. NA\n",
       "\n",
       "\n"
      ],
      "text/plain": [
       " [1] \"0.00\" \"0.00\" \"0.00\" \"0.00\" \"0.00\" \"0.00\" \"0.00\" \"0.00\" \"0.06\" NA    \n",
       "[11] NA     \"0.00\" \"0.00\" \"0.00\" \"0.00\" \"0.00\" \"0.00\" NA     \"0.03\" NA    \n",
       "[21] \"0.03\" NA     \"0.00\" \"0.00\" \"0.02\" NA     \"0.00\" NA     \"0.00\" \"0.00\"\n",
       "[31] \"0.00\" NA     \"0.00\" \"0.00\" \"0.00\" NA     \"0.00\" \"0.00\" \"0.08\" NA    \n",
       "[41] \"0.00\" NA     NA     \"0.00\" \"0.00\" \"0.00\" \"0.01\" \"0.00\" \"0.00\" NA    "
      ]
     },
     "metadata": {},
     "output_type": "display_data"
    }
   ],
   "source": [
    "head(wet_df$HOURLYPrecip, 50)"
   ]
  },
  {
   "cell_type": "markdown",
   "metadata": {},
   "source": [
    "<a id=\"cell5\"></a>\n",
    "## 5. Convert Columns to Numerical Types\n",
    "Now that you have removed the characters in the `HOURLYPrecip` column, you can safely covert the column to a numeric type.\n",
    "\n",
    "First, check the types of the columns. You will notice that all are `dbl` (double or numeric) except for `HOURLYPrecip`, which is `chr` (character or string). Use the `glimpse` function from Tidyverse.\n"
   ]
  },
  {
   "cell_type": "code",
   "execution_count": 103,
   "metadata": {},
   "outputs": [
    {
     "name": "stdout",
     "output_type": "stream",
     "text": [
      "Rows: 5,727\n",
      "Columns: 5\n",
      "$ HOURLYRelativeHumidity \u001b[3m\u001b[90m<dbl>\u001b[39m\u001b[23m 46, 48, 89, 48, 61, 79, 51, 65, 90, 94, 79, 37,…\n",
      "$ HOURLYDRYBULBTEMPF     \u001b[3m\u001b[90m<dbl>\u001b[39m\u001b[23m 83, 53, 36, 36, 39, 41, 19, 24, 54, 73, 83, 44,…\n",
      "$ HOURLYPrecip           \u001b[3m\u001b[90m<chr>\u001b[39m\u001b[23m \"0.00\", \"0.00\", \"0.00\", \"0.00\", \"0.00\", \"0.00\",…\n",
      "$ HOURLYWindSpeed        \u001b[3m\u001b[90m<dbl>\u001b[39m\u001b[23m 13, 6, 13, 14, 11, 6, 0, 11, 11, 5, 21, 7, 17, …\n",
      "$ HOURLYStationPressure  \u001b[3m\u001b[90m<dbl>\u001b[39m\u001b[23m 29.99, 30.03, 30.12, 29.80, 30.50, 29.92, 30.40…\n"
     ]
    }
   ],
   "source": [
    "glimpse(wet_df)"
   ]
  },
  {
   "cell_type": "markdown",
   "metadata": {},
   "source": [
    "Convert `HOURLYPrecip` to the `numeric` type and store the cleaned dataframe as a new variable.\n"
   ]
  },
  {
   "cell_type": "code",
   "execution_count": 105,
   "metadata": {},
   "outputs": [],
   "source": [
    "wet_df$HOURLYPrecip = as.numeric(as.character(wet_df$HOURLYPrecip))"
   ]
  },
  {
   "cell_type": "markdown",
   "metadata": {},
   "source": [
    "We can now see that all fields have numerical data type.\n"
   ]
  },
  {
   "cell_type": "code",
   "execution_count": 108,
   "metadata": {},
   "outputs": [
    {
     "data": {
      "text/html": [
       "'numeric'"
      ],
      "text/latex": [
       "'numeric'"
      ],
      "text/markdown": [
       "'numeric'"
      ],
      "text/plain": [
       "[1] \"numeric\""
      ]
     },
     "metadata": {},
     "output_type": "display_data"
    }
   ],
   "source": [
    "class(wet_df$HOURLYPrecip)"
   ]
  },
  {
   "cell_type": "markdown",
   "metadata": {},
   "source": [
    "<a id=\"cell6\"></a>\n",
    "## 6. Rename Columns\n",
    "Let's rename the following columns as:\n",
    "- 'HOURLYRelativeHumidity' to 'relative_humidity'\n",
    "- 'HOURLYDRYBULBTEMPF' to 'dry_bulb_temp_f'\n",
    "- 'HOURLYPrecip' to 'precip'\n",
    "- 'HOURLYWindSpeed' to 'wind_speed'\n",
    "- 'HOURLYStationPressure' to 'station_pressure'\n",
    "\n",
    "You can use `dplyr::rename()`. Then, store the final dataframe as a new variable.\n"
   ]
  },
  {
   "cell_type": "code",
   "execution_count": 118,
   "metadata": {},
   "outputs": [
    {
     "data": {
      "text/html": [
       "<table class=\"dataframe\">\n",
       "<caption>A tibble: 5727 × 5</caption>\n",
       "<thead>\n",
       "\t<tr><th scope=col>relative_humidity</th><th scope=col>dry_bulb_temp_f</th><th scope=col>precip</th><th scope=col>wind_speed</th><th scope=col>station_pressure</th></tr>\n",
       "\t<tr><th scope=col>&lt;dbl&gt;</th><th scope=col>&lt;dbl&gt;</th><th scope=col>&lt;dbl&gt;</th><th scope=col>&lt;dbl&gt;</th><th scope=col>&lt;dbl&gt;</th></tr>\n",
       "</thead>\n",
       "<tbody>\n",
       "\t<tr><td>46</td><td>83</td><td>0.00</td><td>13</td><td>29.99</td></tr>\n",
       "\t<tr><td>48</td><td>53</td><td>0.00</td><td> 6</td><td>30.03</td></tr>\n",
       "\t<tr><td>89</td><td>36</td><td>0.00</td><td>13</td><td>30.12</td></tr>\n",
       "\t<tr><td>48</td><td>36</td><td>0.00</td><td>14</td><td>29.80</td></tr>\n",
       "\t<tr><td>61</td><td>39</td><td>0.00</td><td>11</td><td>30.50</td></tr>\n",
       "\t<tr><td>79</td><td>41</td><td>0.00</td><td> 6</td><td>29.92</td></tr>\n",
       "\t<tr><td>51</td><td>19</td><td>0.00</td><td> 0</td><td>30.40</td></tr>\n",
       "\t<tr><td>65</td><td>24</td><td>0.00</td><td>11</td><td>30.35</td></tr>\n",
       "\t<tr><td>90</td><td>54</td><td>0.06</td><td>11</td><td>30.03</td></tr>\n",
       "\t<tr><td>94</td><td>73</td><td>  NA</td><td> 5</td><td>29.91</td></tr>\n",
       "\t<tr><td>79</td><td>83</td><td>  NA</td><td>21</td><td>29.75</td></tr>\n",
       "\t<tr><td>37</td><td>44</td><td>0.00</td><td> 7</td><td>30.25</td></tr>\n",
       "\t<tr><td>72</td><td>57</td><td>0.00</td><td>17</td><td>29.84</td></tr>\n",
       "\t<tr><td>47</td><td>78</td><td>0.00</td><td> 8</td><td>30.16</td></tr>\n",
       "\t<tr><td>84</td><td>75</td><td>0.00</td><td> 3</td><td>30.17</td></tr>\n",
       "\t<tr><td>57</td><td>37</td><td>0.00</td><td>11</td><td>30.01</td></tr>\n",
       "\t<tr><td>37</td><td>73</td><td>0.00</td><td>13</td><td>29.96</td></tr>\n",
       "\t<tr><td>75</td><td>58</td><td>  NA</td><td> 9</td><td>30.28</td></tr>\n",
       "\t<tr><td>92</td><td>32</td><td>0.03</td><td> 9</td><td>29.59</td></tr>\n",
       "\t<tr><td>79</td><td>42</td><td>  NA</td><td> 3</td><td>30.10</td></tr>\n",
       "\t<tr><td>94</td><td>68</td><td>0.03</td><td>18</td><td>29.68</td></tr>\n",
       "\t<tr><td>71</td><td>71</td><td>  NA</td><td> 6</td><td>29.94</td></tr>\n",
       "\t<tr><td>78</td><td>57</td><td>0.00</td><td>10</td><td>30.49</td></tr>\n",
       "\t<tr><td>55</td><td>73</td><td>0.00</td><td>15</td><td>29.84</td></tr>\n",
       "\t<tr><td>79</td><td>44</td><td>0.02</td><td>23</td><td>29.66</td></tr>\n",
       "\t<tr><td>83</td><td>55</td><td>  NA</td><td> 3</td><td>30.11</td></tr>\n",
       "\t<tr><td>74</td><td>75</td><td>0.00</td><td>14</td><td>29.78</td></tr>\n",
       "\t<tr><td>36</td><td>47</td><td>  NA</td><td>13</td><td>29.85</td></tr>\n",
       "\t<tr><td>89</td><td>42</td><td>0.00</td><td>22</td><td>29.58</td></tr>\n",
       "\t<tr><td>42</td><td>24</td><td>0.00</td><td>22</td><td>29.79</td></tr>\n",
       "\t<tr><td>⋮</td><td>⋮</td><td>⋮</td><td>⋮</td><td>⋮</td></tr>\n",
       "\t<tr><td> 71</td><td>51</td><td>0.00</td><td>13</td><td>29.77</td></tr>\n",
       "\t<tr><td> 62</td><td>76</td><td>0.00</td><td>21</td><td>29.97</td></tr>\n",
       "\t<tr><td> 94</td><td>54</td><td>0.00</td><td> 8</td><td>29.57</td></tr>\n",
       "\t<tr><td> 53</td><td>71</td><td>0.00</td><td> 6</td><td>29.99</td></tr>\n",
       "\t<tr><td> 90</td><td>75</td><td>0.00</td><td>10</td><td>29.95</td></tr>\n",
       "\t<tr><td> 40</td><td>63</td><td>0.00</td><td>11</td><td>30.07</td></tr>\n",
       "\t<tr><td> 40</td><td>46</td><td>0.00</td><td>14</td><td>30.30</td></tr>\n",
       "\t<tr><td> 67</td><td>84</td><td>0.00</td><td> 8</td><td>29.83</td></tr>\n",
       "\t<tr><td> 60</td><td>75</td><td>0.00</td><td> 9</td><td>29.98</td></tr>\n",
       "\t<tr><td> 87</td><td>58</td><td>0.02</td><td>10</td><td>29.87</td></tr>\n",
       "\t<tr><td> 54</td><td>34</td><td>0.00</td><td> 7</td><td>30.63</td></tr>\n",
       "\t<tr><td> 79</td><td>74</td><td>0.00</td><td>14</td><td>29.97</td></tr>\n",
       "\t<tr><td> 79</td><td>67</td><td>  NA</td><td> 5</td><td>30.17</td></tr>\n",
       "\t<tr><td> 57</td><td>36</td><td>0.00</td><td>20</td><td>29.72</td></tr>\n",
       "\t<tr><td> 71</td><td>67</td><td>0.00</td><td> 7</td><td>29.88</td></tr>\n",
       "\t<tr><td> 54</td><td>19</td><td>0.00</td><td> 9</td><td>30.36</td></tr>\n",
       "\t<tr><td> 34</td><td>54</td><td>0.00</td><td>13</td><td>29.97</td></tr>\n",
       "\t<tr><td> 32</td><td>18</td><td>0.00</td><td>20</td><td>30.48</td></tr>\n",
       "\t<tr><td> 78</td><td>26</td><td>0.00</td><td>22</td><td>29.91</td></tr>\n",
       "\t<tr><td> 52</td><td>18</td><td>0.00</td><td> 8</td><td>30.00</td></tr>\n",
       "\t<tr><td>100</td><td>40</td><td>0.03</td><td> 9</td><td>30.00</td></tr>\n",
       "\t<tr><td> 49</td><td>57</td><td>0.00</td><td>16</td><td>29.90</td></tr>\n",
       "\t<tr><td> 66</td><td>67</td><td>0.00</td><td>16</td><td>30.26</td></tr>\n",
       "\t<tr><td> 97</td><td>38</td><td>0.01</td><td>17</td><td>29.65</td></tr>\n",
       "\t<tr><td> 64</td><td>72</td><td>0.00</td><td> 9</td><td>30.21</td></tr>\n",
       "\t<tr><td> 67</td><td>61</td><td>0.00</td><td> 6</td><td>29.72</td></tr>\n",
       "\t<tr><td> NA</td><td>NA</td><td>  NA</td><td>NA</td><td>   NA</td></tr>\n",
       "\t<tr><td> 48</td><td>53</td><td>0.00</td><td> 3</td><td>30.26</td></tr>\n",
       "\t<tr><td> 75</td><td>32</td><td>0.00</td><td> 7</td><td>29.69</td></tr>\n",
       "\t<tr><td> 52</td><td>38</td><td>0.00</td><td> 0</td><td>29.97</td></tr>\n",
       "</tbody>\n",
       "</table>\n"
      ],
      "text/latex": [
       "A tibble: 5727 × 5\n",
       "\\begin{tabular}{lllll}\n",
       " relative\\_humidity & dry\\_bulb\\_temp\\_f & precip & wind\\_speed & station\\_pressure\\\\\n",
       " <dbl> & <dbl> & <dbl> & <dbl> & <dbl>\\\\\n",
       "\\hline\n",
       "\t 46 & 83 & 0.00 & 13 & 29.99\\\\\n",
       "\t 48 & 53 & 0.00 &  6 & 30.03\\\\\n",
       "\t 89 & 36 & 0.00 & 13 & 30.12\\\\\n",
       "\t 48 & 36 & 0.00 & 14 & 29.80\\\\\n",
       "\t 61 & 39 & 0.00 & 11 & 30.50\\\\\n",
       "\t 79 & 41 & 0.00 &  6 & 29.92\\\\\n",
       "\t 51 & 19 & 0.00 &  0 & 30.40\\\\\n",
       "\t 65 & 24 & 0.00 & 11 & 30.35\\\\\n",
       "\t 90 & 54 & 0.06 & 11 & 30.03\\\\\n",
       "\t 94 & 73 &   NA &  5 & 29.91\\\\\n",
       "\t 79 & 83 &   NA & 21 & 29.75\\\\\n",
       "\t 37 & 44 & 0.00 &  7 & 30.25\\\\\n",
       "\t 72 & 57 & 0.00 & 17 & 29.84\\\\\n",
       "\t 47 & 78 & 0.00 &  8 & 30.16\\\\\n",
       "\t 84 & 75 & 0.00 &  3 & 30.17\\\\\n",
       "\t 57 & 37 & 0.00 & 11 & 30.01\\\\\n",
       "\t 37 & 73 & 0.00 & 13 & 29.96\\\\\n",
       "\t 75 & 58 &   NA &  9 & 30.28\\\\\n",
       "\t 92 & 32 & 0.03 &  9 & 29.59\\\\\n",
       "\t 79 & 42 &   NA &  3 & 30.10\\\\\n",
       "\t 94 & 68 & 0.03 & 18 & 29.68\\\\\n",
       "\t 71 & 71 &   NA &  6 & 29.94\\\\\n",
       "\t 78 & 57 & 0.00 & 10 & 30.49\\\\\n",
       "\t 55 & 73 & 0.00 & 15 & 29.84\\\\\n",
       "\t 79 & 44 & 0.02 & 23 & 29.66\\\\\n",
       "\t 83 & 55 &   NA &  3 & 30.11\\\\\n",
       "\t 74 & 75 & 0.00 & 14 & 29.78\\\\\n",
       "\t 36 & 47 &   NA & 13 & 29.85\\\\\n",
       "\t 89 & 42 & 0.00 & 22 & 29.58\\\\\n",
       "\t 42 & 24 & 0.00 & 22 & 29.79\\\\\n",
       "\t ⋮ & ⋮ & ⋮ & ⋮ & ⋮\\\\\n",
       "\t  71 & 51 & 0.00 & 13 & 29.77\\\\\n",
       "\t  62 & 76 & 0.00 & 21 & 29.97\\\\\n",
       "\t  94 & 54 & 0.00 &  8 & 29.57\\\\\n",
       "\t  53 & 71 & 0.00 &  6 & 29.99\\\\\n",
       "\t  90 & 75 & 0.00 & 10 & 29.95\\\\\n",
       "\t  40 & 63 & 0.00 & 11 & 30.07\\\\\n",
       "\t  40 & 46 & 0.00 & 14 & 30.30\\\\\n",
       "\t  67 & 84 & 0.00 &  8 & 29.83\\\\\n",
       "\t  60 & 75 & 0.00 &  9 & 29.98\\\\\n",
       "\t  87 & 58 & 0.02 & 10 & 29.87\\\\\n",
       "\t  54 & 34 & 0.00 &  7 & 30.63\\\\\n",
       "\t  79 & 74 & 0.00 & 14 & 29.97\\\\\n",
       "\t  79 & 67 &   NA &  5 & 30.17\\\\\n",
       "\t  57 & 36 & 0.00 & 20 & 29.72\\\\\n",
       "\t  71 & 67 & 0.00 &  7 & 29.88\\\\\n",
       "\t  54 & 19 & 0.00 &  9 & 30.36\\\\\n",
       "\t  34 & 54 & 0.00 & 13 & 29.97\\\\\n",
       "\t  32 & 18 & 0.00 & 20 & 30.48\\\\\n",
       "\t  78 & 26 & 0.00 & 22 & 29.91\\\\\n",
       "\t  52 & 18 & 0.00 &  8 & 30.00\\\\\n",
       "\t 100 & 40 & 0.03 &  9 & 30.00\\\\\n",
       "\t  49 & 57 & 0.00 & 16 & 29.90\\\\\n",
       "\t  66 & 67 & 0.00 & 16 & 30.26\\\\\n",
       "\t  97 & 38 & 0.01 & 17 & 29.65\\\\\n",
       "\t  64 & 72 & 0.00 &  9 & 30.21\\\\\n",
       "\t  67 & 61 & 0.00 &  6 & 29.72\\\\\n",
       "\t  NA & NA &   NA & NA &    NA\\\\\n",
       "\t  48 & 53 & 0.00 &  3 & 30.26\\\\\n",
       "\t  75 & 32 & 0.00 &  7 & 29.69\\\\\n",
       "\t  52 & 38 & 0.00 &  0 & 29.97\\\\\n",
       "\\end{tabular}\n"
      ],
      "text/markdown": [
       "\n",
       "A tibble: 5727 × 5\n",
       "\n",
       "| relative_humidity &lt;dbl&gt; | dry_bulb_temp_f &lt;dbl&gt; | precip &lt;dbl&gt; | wind_speed &lt;dbl&gt; | station_pressure &lt;dbl&gt; |\n",
       "|---|---|---|---|---|\n",
       "| 46 | 83 | 0.00 | 13 | 29.99 |\n",
       "| 48 | 53 | 0.00 |  6 | 30.03 |\n",
       "| 89 | 36 | 0.00 | 13 | 30.12 |\n",
       "| 48 | 36 | 0.00 | 14 | 29.80 |\n",
       "| 61 | 39 | 0.00 | 11 | 30.50 |\n",
       "| 79 | 41 | 0.00 |  6 | 29.92 |\n",
       "| 51 | 19 | 0.00 |  0 | 30.40 |\n",
       "| 65 | 24 | 0.00 | 11 | 30.35 |\n",
       "| 90 | 54 | 0.06 | 11 | 30.03 |\n",
       "| 94 | 73 |   NA |  5 | 29.91 |\n",
       "| 79 | 83 |   NA | 21 | 29.75 |\n",
       "| 37 | 44 | 0.00 |  7 | 30.25 |\n",
       "| 72 | 57 | 0.00 | 17 | 29.84 |\n",
       "| 47 | 78 | 0.00 |  8 | 30.16 |\n",
       "| 84 | 75 | 0.00 |  3 | 30.17 |\n",
       "| 57 | 37 | 0.00 | 11 | 30.01 |\n",
       "| 37 | 73 | 0.00 | 13 | 29.96 |\n",
       "| 75 | 58 |   NA |  9 | 30.28 |\n",
       "| 92 | 32 | 0.03 |  9 | 29.59 |\n",
       "| 79 | 42 |   NA |  3 | 30.10 |\n",
       "| 94 | 68 | 0.03 | 18 | 29.68 |\n",
       "| 71 | 71 |   NA |  6 | 29.94 |\n",
       "| 78 | 57 | 0.00 | 10 | 30.49 |\n",
       "| 55 | 73 | 0.00 | 15 | 29.84 |\n",
       "| 79 | 44 | 0.02 | 23 | 29.66 |\n",
       "| 83 | 55 |   NA |  3 | 30.11 |\n",
       "| 74 | 75 | 0.00 | 14 | 29.78 |\n",
       "| 36 | 47 |   NA | 13 | 29.85 |\n",
       "| 89 | 42 | 0.00 | 22 | 29.58 |\n",
       "| 42 | 24 | 0.00 | 22 | 29.79 |\n",
       "| ⋮ | ⋮ | ⋮ | ⋮ | ⋮ |\n",
       "|  71 | 51 | 0.00 | 13 | 29.77 |\n",
       "|  62 | 76 | 0.00 | 21 | 29.97 |\n",
       "|  94 | 54 | 0.00 |  8 | 29.57 |\n",
       "|  53 | 71 | 0.00 |  6 | 29.99 |\n",
       "|  90 | 75 | 0.00 | 10 | 29.95 |\n",
       "|  40 | 63 | 0.00 | 11 | 30.07 |\n",
       "|  40 | 46 | 0.00 | 14 | 30.30 |\n",
       "|  67 | 84 | 0.00 |  8 | 29.83 |\n",
       "|  60 | 75 | 0.00 |  9 | 29.98 |\n",
       "|  87 | 58 | 0.02 | 10 | 29.87 |\n",
       "|  54 | 34 | 0.00 |  7 | 30.63 |\n",
       "|  79 | 74 | 0.00 | 14 | 29.97 |\n",
       "|  79 | 67 |   NA |  5 | 30.17 |\n",
       "|  57 | 36 | 0.00 | 20 | 29.72 |\n",
       "|  71 | 67 | 0.00 |  7 | 29.88 |\n",
       "|  54 | 19 | 0.00 |  9 | 30.36 |\n",
       "|  34 | 54 | 0.00 | 13 | 29.97 |\n",
       "|  32 | 18 | 0.00 | 20 | 30.48 |\n",
       "|  78 | 26 | 0.00 | 22 | 29.91 |\n",
       "|  52 | 18 | 0.00 |  8 | 30.00 |\n",
       "| 100 | 40 | 0.03 |  9 | 30.00 |\n",
       "|  49 | 57 | 0.00 | 16 | 29.90 |\n",
       "|  66 | 67 | 0.00 | 16 | 30.26 |\n",
       "|  97 | 38 | 0.01 | 17 | 29.65 |\n",
       "|  64 | 72 | 0.00 |  9 | 30.21 |\n",
       "|  67 | 61 | 0.00 |  6 | 29.72 |\n",
       "|  NA | NA |   NA | NA |    NA |\n",
       "|  48 | 53 | 0.00 |  3 | 30.26 |\n",
       "|  75 | 32 | 0.00 |  7 | 29.69 |\n",
       "|  52 | 38 | 0.00 |  0 | 29.97 |\n",
       "\n"
      ],
      "text/plain": [
       "     relative_humidity dry_bulb_temp_f precip wind_speed station_pressure\n",
       "1    46                83              0.00   13         29.99           \n",
       "2    48                53              0.00    6         30.03           \n",
       "3    89                36              0.00   13         30.12           \n",
       "4    48                36              0.00   14         29.80           \n",
       "5    61                39              0.00   11         30.50           \n",
       "6    79                41              0.00    6         29.92           \n",
       "7    51                19              0.00    0         30.40           \n",
       "8    65                24              0.00   11         30.35           \n",
       "9    90                54              0.06   11         30.03           \n",
       "10   94                73                NA    5         29.91           \n",
       "11   79                83                NA   21         29.75           \n",
       "12   37                44              0.00    7         30.25           \n",
       "13   72                57              0.00   17         29.84           \n",
       "14   47                78              0.00    8         30.16           \n",
       "15   84                75              0.00    3         30.17           \n",
       "16   57                37              0.00   11         30.01           \n",
       "17   37                73              0.00   13         29.96           \n",
       "18   75                58                NA    9         30.28           \n",
       "19   92                32              0.03    9         29.59           \n",
       "20   79                42                NA    3         30.10           \n",
       "21   94                68              0.03   18         29.68           \n",
       "22   71                71                NA    6         29.94           \n",
       "23   78                57              0.00   10         30.49           \n",
       "24   55                73              0.00   15         29.84           \n",
       "25   79                44              0.02   23         29.66           \n",
       "26   83                55                NA    3         30.11           \n",
       "27   74                75              0.00   14         29.78           \n",
       "28   36                47                NA   13         29.85           \n",
       "29   89                42              0.00   22         29.58           \n",
       "30   42                24              0.00   22         29.79           \n",
       "⋮    ⋮                 ⋮               ⋮      ⋮          ⋮               \n",
       "5698  71               51              0.00   13         29.77           \n",
       "5699  62               76              0.00   21         29.97           \n",
       "5700  94               54              0.00    8         29.57           \n",
       "5701  53               71              0.00    6         29.99           \n",
       "5702  90               75              0.00   10         29.95           \n",
       "5703  40               63              0.00   11         30.07           \n",
       "5704  40               46              0.00   14         30.30           \n",
       "5705  67               84              0.00    8         29.83           \n",
       "5706  60               75              0.00    9         29.98           \n",
       "5707  87               58              0.02   10         29.87           \n",
       "5708  54               34              0.00    7         30.63           \n",
       "5709  79               74              0.00   14         29.97           \n",
       "5710  79               67                NA    5         30.17           \n",
       "5711  57               36              0.00   20         29.72           \n",
       "5712  71               67              0.00    7         29.88           \n",
       "5713  54               19              0.00    9         30.36           \n",
       "5714  34               54              0.00   13         29.97           \n",
       "5715  32               18              0.00   20         30.48           \n",
       "5716  78               26              0.00   22         29.91           \n",
       "5717  52               18              0.00    8         30.00           \n",
       "5718 100               40              0.03    9         30.00           \n",
       "5719  49               57              0.00   16         29.90           \n",
       "5720  66               67              0.00   16         30.26           \n",
       "5721  97               38              0.01   17         29.65           \n",
       "5722  64               72              0.00    9         30.21           \n",
       "5723  67               61              0.00    6         29.72           \n",
       "5724  NA               NA                NA   NA            NA           \n",
       "5725  48               53              0.00    3         30.26           \n",
       "5726  75               32              0.00    7         29.69           \n",
       "5727  52               38              0.00    0         29.97           "
      ]
     },
     "metadata": {},
     "output_type": "display_data"
    }
   ],
   "source": [
    "weth_dfRen <- wet_df %>%\n",
    "    rename(relative_humidity = \"HOURLYRelativeHumidity\", dry_bulb_temp_f = \"HOURLYDRYBULBTEMPF\", \n",
    "           precip = \"HOURLYPrecip\", wind_speed = \"HOURLYWindSpeed\", station_pressure = \"HOURLYStationPressure\")\n",
    "\n",
    "\n",
    "weth_dfren"
   ]
  },
  {
   "cell_type": "code",
   "execution_count": 264,
   "metadata": {},
   "outputs": [
    {
     "data": {
      "text/html": [
       "<table class=\"dataframe\">\n",
       "<caption>A tibble: 10 × 5</caption>\n",
       "<thead>\n",
       "\t<tr><th scope=col>relative_humidity</th><th scope=col>dry_bulb_temp_f</th><th scope=col>precip</th><th scope=col>wind_speed</th><th scope=col>station_pressure</th></tr>\n",
       "\t<tr><th scope=col>&lt;dbl&gt;</th><th scope=col>&lt;dbl&gt;</th><th scope=col>&lt;dbl&gt;</th><th scope=col>&lt;dbl&gt;</th><th scope=col>&lt;dbl&gt;</th></tr>\n",
       "</thead>\n",
       "<tbody>\n",
       "\t<tr><td>46</td><td>83</td><td>0.00</td><td>13</td><td>29.99</td></tr>\n",
       "\t<tr><td>48</td><td>53</td><td>0.00</td><td> 6</td><td>30.03</td></tr>\n",
       "\t<tr><td>89</td><td>36</td><td>0.00</td><td>13</td><td>30.12</td></tr>\n",
       "\t<tr><td>48</td><td>36</td><td>0.00</td><td>14</td><td>29.80</td></tr>\n",
       "\t<tr><td>61</td><td>39</td><td>0.00</td><td>11</td><td>30.50</td></tr>\n",
       "\t<tr><td>79</td><td>41</td><td>0.00</td><td> 6</td><td>29.92</td></tr>\n",
       "\t<tr><td>51</td><td>19</td><td>0.00</td><td> 0</td><td>30.40</td></tr>\n",
       "\t<tr><td>65</td><td>24</td><td>0.00</td><td>11</td><td>30.35</td></tr>\n",
       "\t<tr><td>90</td><td>54</td><td>0.06</td><td>11</td><td>30.03</td></tr>\n",
       "\t<tr><td>94</td><td>73</td><td>  NA</td><td> 5</td><td>29.91</td></tr>\n",
       "</tbody>\n",
       "</table>\n"
      ],
      "text/latex": [
       "A tibble: 10 × 5\n",
       "\\begin{tabular}{lllll}\n",
       " relative\\_humidity & dry\\_bulb\\_temp\\_f & precip & wind\\_speed & station\\_pressure\\\\\n",
       " <dbl> & <dbl> & <dbl> & <dbl> & <dbl>\\\\\n",
       "\\hline\n",
       "\t 46 & 83 & 0.00 & 13 & 29.99\\\\\n",
       "\t 48 & 53 & 0.00 &  6 & 30.03\\\\\n",
       "\t 89 & 36 & 0.00 & 13 & 30.12\\\\\n",
       "\t 48 & 36 & 0.00 & 14 & 29.80\\\\\n",
       "\t 61 & 39 & 0.00 & 11 & 30.50\\\\\n",
       "\t 79 & 41 & 0.00 &  6 & 29.92\\\\\n",
       "\t 51 & 19 & 0.00 &  0 & 30.40\\\\\n",
       "\t 65 & 24 & 0.00 & 11 & 30.35\\\\\n",
       "\t 90 & 54 & 0.06 & 11 & 30.03\\\\\n",
       "\t 94 & 73 &   NA &  5 & 29.91\\\\\n",
       "\\end{tabular}\n"
      ],
      "text/markdown": [
       "\n",
       "A tibble: 10 × 5\n",
       "\n",
       "| relative_humidity &lt;dbl&gt; | dry_bulb_temp_f &lt;dbl&gt; | precip &lt;dbl&gt; | wind_speed &lt;dbl&gt; | station_pressure &lt;dbl&gt; |\n",
       "|---|---|---|---|---|\n",
       "| 46 | 83 | 0.00 | 13 | 29.99 |\n",
       "| 48 | 53 | 0.00 |  6 | 30.03 |\n",
       "| 89 | 36 | 0.00 | 13 | 30.12 |\n",
       "| 48 | 36 | 0.00 | 14 | 29.80 |\n",
       "| 61 | 39 | 0.00 | 11 | 30.50 |\n",
       "| 79 | 41 | 0.00 |  6 | 29.92 |\n",
       "| 51 | 19 | 0.00 |  0 | 30.40 |\n",
       "| 65 | 24 | 0.00 | 11 | 30.35 |\n",
       "| 90 | 54 | 0.06 | 11 | 30.03 |\n",
       "| 94 | 73 |   NA |  5 | 29.91 |\n",
       "\n"
      ],
      "text/plain": [
       "   relative_humidity dry_bulb_temp_f precip wind_speed station_pressure\n",
       "1  46                83              0.00   13         29.99           \n",
       "2  48                53              0.00    6         30.03           \n",
       "3  89                36              0.00   13         30.12           \n",
       "4  48                36              0.00   14         29.80           \n",
       "5  61                39              0.00   11         30.50           \n",
       "6  79                41              0.00    6         29.92           \n",
       "7  51                19              0.00    0         30.40           \n",
       "8  65                24              0.00   11         30.35           \n",
       "9  90                54              0.06   11         30.03           \n",
       "10 94                73                NA    5         29.91           "
      ]
     },
     "metadata": {},
     "output_type": "display_data"
    }
   ],
   "source": [
    "head(weth_dfren,10)"
   ]
  },
  {
   "cell_type": "code",
   "execution_count": 414,
   "metadata": {},
   "outputs": [
    {
     "data": {
      "text/html": [
       "<style>\n",
       ".list-inline {list-style: none; margin:0; padding: 0}\n",
       ".list-inline>li {display: inline-block}\n",
       ".list-inline>li:not(:last-child)::after {content: \"\\00b7\"; padding: 0 .5ex}\n",
       "</style>\n",
       "<ol class=list-inline><li>0</li><li>0.06</li><li>0.03</li><li>0.02</li><li>0.08</li><li>0.01</li><li>0.07</li><li>0.16</li><li>0.09</li><li>0.22</li><li>0.24</li><li>0.18</li><li>0.05</li><li>0.04</li><li>0.11</li><li>0.14</li><li>0.25</li><li>0.1</li><li>0.58</li><li>0.12</li><li>0.13</li><li>0.46</li><li>1.07</li><li>1.19</li><li>0.34</li><li>0.2</li><li>0.36</li><li>0.42</li><li>0.17</li><li>0.27</li><li>0.35</li><li>0.31</li><li>0.33</li><li>0.23</li><li>0.26</li><li>0.28</li><li>0.75</li><li>0.19</li><li>0.54</li><li>0.59</li><li>0.21</li></ol>\n"
      ],
      "text/latex": [
       "\\begin{enumerate*}\n",
       "\\item 0\n",
       "\\item 0.06\n",
       "\\item 0.03\n",
       "\\item 0.02\n",
       "\\item 0.08\n",
       "\\item 0.01\n",
       "\\item 0.07\n",
       "\\item 0.16\n",
       "\\item 0.09\n",
       "\\item 0.22\n",
       "\\item 0.24\n",
       "\\item 0.18\n",
       "\\item 0.05\n",
       "\\item 0.04\n",
       "\\item 0.11\n",
       "\\item 0.14\n",
       "\\item 0.25\n",
       "\\item 0.1\n",
       "\\item 0.58\n",
       "\\item 0.12\n",
       "\\item 0.13\n",
       "\\item 0.46\n",
       "\\item 1.07\n",
       "\\item 1.19\n",
       "\\item 0.34\n",
       "\\item 0.2\n",
       "\\item 0.36\n",
       "\\item 0.42\n",
       "\\item 0.17\n",
       "\\item 0.27\n",
       "\\item 0.35\n",
       "\\item 0.31\n",
       "\\item 0.33\n",
       "\\item 0.23\n",
       "\\item 0.26\n",
       "\\item 0.28\n",
       "\\item 0.75\n",
       "\\item 0.19\n",
       "\\item 0.54\n",
       "\\item 0.59\n",
       "\\item 0.21\n",
       "\\end{enumerate*}\n"
      ],
      "text/markdown": [
       "1. 0\n",
       "2. 0.06\n",
       "3. 0.03\n",
       "4. 0.02\n",
       "5. 0.08\n",
       "6. 0.01\n",
       "7. 0.07\n",
       "8. 0.16\n",
       "9. 0.09\n",
       "10. 0.22\n",
       "11. 0.24\n",
       "12. 0.18\n",
       "13. 0.05\n",
       "14. 0.04\n",
       "15. 0.11\n",
       "16. 0.14\n",
       "17. 0.25\n",
       "18. 0.1\n",
       "19. 0.58\n",
       "20. 0.12\n",
       "21. 0.13\n",
       "22. 0.46\n",
       "23. 1.07\n",
       "24. 1.19\n",
       "25. 0.34\n",
       "26. 0.2\n",
       "27. 0.36\n",
       "28. 0.42\n",
       "29. 0.17\n",
       "30. 0.27\n",
       "31. 0.35\n",
       "32. 0.31\n",
       "33. 0.33\n",
       "34. 0.23\n",
       "35. 0.26\n",
       "36. 0.28\n",
       "37. 0.75\n",
       "38. 0.19\n",
       "39. 0.54\n",
       "40. 0.59\n",
       "41. 0.21\n",
       "\n",
       "\n"
      ],
      "text/plain": [
       " [1] 0.00 0.06 0.03 0.02 0.08 0.01 0.07 0.16 0.09 0.22 0.24 0.18 0.05 0.04 0.11\n",
       "[16] 0.14 0.25 0.10 0.58 0.12 0.13 0.46 1.07 1.19 0.34 0.20 0.36 0.42 0.17 0.27\n",
       "[31] 0.35 0.31 0.33 0.23 0.26 0.28 0.75 0.19 0.54 0.59 0.21"
      ]
     },
     "metadata": {},
     "output_type": "display_data"
    }
   ],
   "source": [
    "weth_dfren <- weth_dfren %>%\n",
    "                replace_na(list(relative_humidity = 0,\n",
    "                                    dry_bulb_temp_f = 0,\n",
    "                                    precip = 0,\n",
    "                                    wind_speed = 0,\n",
    "                                    station_pressure = 0)) %>%\n",
    "                select(relative_humidity, dry_bulb_temp_f, precip, wind_speed, station_pressure)\n",
    "\n",
    "unique(weth_dfren$precip)\n"
   ]
  },
  {
   "cell_type": "markdown",
   "metadata": {},
   "source": [
    "<a id=\"cell7\"></a>\n",
    "## 7. Exploratory Data Analysis\n",
    "Now that you have finished preprocessing the dataset, you can can start exploring the columns more.\n",
    "\n",
    "First, split the data into a training and testing set. Splitting a dataset is done randomly, so to have reproducible results set the seed = 1234. Also, use 80% of the data for training.\n"
   ]
  },
  {
   "cell_type": "code",
   "execution_count": 290,
   "metadata": {},
   "outputs": [],
   "source": [
    "set.seed(1234)\n",
    "weath_split <- initial_split(weth_dfren, prop = 0.8)\n",
    "train_data <- training(weath_split)\n",
    "test_data <- testing(weath_split)"
   ]
  },
  {
   "cell_type": "code",
   "execution_count": 291,
   "metadata": {},
   "outputs": [
    {
     "data": {
      "text/html": [
       "<table class=\"dataframe\">\n",
       "<caption>A tibble: 10 × 5</caption>\n",
       "<thead>\n",
       "\t<tr><th scope=col>relative_humidity</th><th scope=col>dry_bulb_temp_f</th><th scope=col>precip</th><th scope=col>wind_speed</th><th scope=col>station_pressure</th></tr>\n",
       "\t<tr><th scope=col>&lt;dbl&gt;</th><th scope=col>&lt;dbl&gt;</th><th scope=col>&lt;dbl&gt;</th><th scope=col>&lt;dbl&gt;</th><th scope=col>&lt;dbl&gt;</th></tr>\n",
       "</thead>\n",
       "<tbody>\n",
       "\t<tr><td> 94</td><td>73</td><td>0.00</td><td> 7</td><td>29.83</td></tr>\n",
       "\t<tr><td> 76</td><td>72</td><td>0.00</td><td> 8</td><td>30.17</td></tr>\n",
       "\t<tr><td> 57</td><td>24</td><td>0.00</td><td> 9</td><td>30.63</td></tr>\n",
       "\t<tr><td> 87</td><td>73</td><td>0.58</td><td>13</td><td>29.78</td></tr>\n",
       "\t<tr><td> 65</td><td>43</td><td>0.00</td><td>10</td><td>30.41</td></tr>\n",
       "\t<tr><td>100</td><td>57</td><td>0.00</td><td>28</td><td>29.69</td></tr>\n",
       "\t<tr><td> 68</td><td>40</td><td>0.00</td><td> 9</td><td>30.31</td></tr>\n",
       "\t<tr><td> 33</td><td>21</td><td>0.00</td><td>17</td><td>30.27</td></tr>\n",
       "\t<tr><td> 67</td><td>31</td><td>0.00</td><td> 8</td><td>30.04</td></tr>\n",
       "\t<tr><td> 23</td><td>70</td><td>0.00</td><td>30</td><td>29.53</td></tr>\n",
       "</tbody>\n",
       "</table>\n"
      ],
      "text/latex": [
       "A tibble: 10 × 5\n",
       "\\begin{tabular}{lllll}\n",
       " relative\\_humidity & dry\\_bulb\\_temp\\_f & precip & wind\\_speed & station\\_pressure\\\\\n",
       " <dbl> & <dbl> & <dbl> & <dbl> & <dbl>\\\\\n",
       "\\hline\n",
       "\t  94 & 73 & 0.00 &  7 & 29.83\\\\\n",
       "\t  76 & 72 & 0.00 &  8 & 30.17\\\\\n",
       "\t  57 & 24 & 0.00 &  9 & 30.63\\\\\n",
       "\t  87 & 73 & 0.58 & 13 & 29.78\\\\\n",
       "\t  65 & 43 & 0.00 & 10 & 30.41\\\\\n",
       "\t 100 & 57 & 0.00 & 28 & 29.69\\\\\n",
       "\t  68 & 40 & 0.00 &  9 & 30.31\\\\\n",
       "\t  33 & 21 & 0.00 & 17 & 30.27\\\\\n",
       "\t  67 & 31 & 0.00 &  8 & 30.04\\\\\n",
       "\t  23 & 70 & 0.00 & 30 & 29.53\\\\\n",
       "\\end{tabular}\n"
      ],
      "text/markdown": [
       "\n",
       "A tibble: 10 × 5\n",
       "\n",
       "| relative_humidity &lt;dbl&gt; | dry_bulb_temp_f &lt;dbl&gt; | precip &lt;dbl&gt; | wind_speed &lt;dbl&gt; | station_pressure &lt;dbl&gt; |\n",
       "|---|---|---|---|---|\n",
       "|  94 | 73 | 0.00 |  7 | 29.83 |\n",
       "|  76 | 72 | 0.00 |  8 | 30.17 |\n",
       "|  57 | 24 | 0.00 |  9 | 30.63 |\n",
       "|  87 | 73 | 0.58 | 13 | 29.78 |\n",
       "|  65 | 43 | 0.00 | 10 | 30.41 |\n",
       "| 100 | 57 | 0.00 | 28 | 29.69 |\n",
       "|  68 | 40 | 0.00 |  9 | 30.31 |\n",
       "|  33 | 21 | 0.00 | 17 | 30.27 |\n",
       "|  67 | 31 | 0.00 |  8 | 30.04 |\n",
       "|  23 | 70 | 0.00 | 30 | 29.53 |\n",
       "\n"
      ],
      "text/plain": [
       "   relative_humidity dry_bulb_temp_f precip wind_speed station_pressure\n",
       "1   94               73              0.00    7         29.83           \n",
       "2   76               72              0.00    8         30.17           \n",
       "3   57               24              0.00    9         30.63           \n",
       "4   87               73              0.58   13         29.78           \n",
       "5   65               43              0.00   10         30.41           \n",
       "6  100               57              0.00   28         29.69           \n",
       "7   68               40              0.00    9         30.31           \n",
       "8   33               21              0.00   17         30.27           \n",
       "9   67               31              0.00    8         30.04           \n",
       "10  23               70              0.00   30         29.53           "
      ]
     },
     "metadata": {},
     "output_type": "display_data"
    }
   ],
   "source": [
    "head(train_data,10)"
   ]
  },
  {
   "cell_type": "markdown",
   "metadata": {},
   "source": [
    "Next, looking at just the **training set**, plot histograms or box plots of the variables (`relative_humidity`, `dry_bulb_temp_f`, `precip`, `wind_speed`,  `station_pressure`) for an intial look of their distributions using `tidyverse`'s `ggplot`. Leave the testing set as is because it is good practice to not see the testing set until evaluating the final model.\n"
   ]
  },
  {
   "cell_type": "code",
   "execution_count": 292,
   "metadata": {},
   "outputs": [],
   "source": [
    "data_long <- train_data %>%                          \n",
    "  pivot_longer(colnames(train_data)) "
   ]
  },
  {
   "cell_type": "code",
   "execution_count": 293,
   "metadata": {},
   "outputs": [
    {
     "data": {
      "image/png": "[encoded data removed]",
      "text/plain": [
       "plot without title"
      ]
     },
     "metadata": {
      "image/png": {
       "height": 420,
       "width": 420
      }
     },
     "output_type": "display_data"
    }
   ],
   "source": [
    "ggplt <- ggplot(data_long, aes(x = value)) +  \n",
    "  geom_histogram(aes(y = ..density..),bins = 20) + \n",
    "  geom_density(col = \"#1b98e0\", linewidth = 0.8, stat = \"density\", position = \"identity\") + \n",
    "  facet_wrap(~ name, scales = \"free\")\n",
    "\n",
    "ggplt"
   ]
  },
  {
   "cell_type": "markdown",
   "metadata": {},
   "source": [
    "<a id=\"cell8\"></a>\n",
    "## 8. Linear Regression \n",
    "After exploring the dataset more, you are now ready to start creating models to predict the precipitation (`precip`).\n",
    "\n",
    "Create simple linear regression models where `precip` is the response variable and each of `relative_humidity`, `dry_bulb_temp_f`,`wind_speed` or `station_pressure` will be a predictor variable, e.g. `precip ~ relative_humidity`, `precip ~ dry_bulb_temp_f`, etc. for a total of four simple models. \n",
    "Additionally, visualize each simple model with a scatter plot.\n"
   ]
  },
  {
   "cell_type": "code",
   "execution_count": 294,
   "metadata": {},
   "outputs": [],
   "source": [
    "lm_spec <- linear_reg() %>%\n",
    "  set_engine(engine = \"lm\")\n",
    "train_fit <- lm_spec %>% \n",
    "    fit(precip ~ relative_humidity, data = train_data)\n",
    "train_results <- train_fit %>%\n",
    "  predict(new_data = train_data) %>%\n",
    "  mutate(truth = train_data$precip)"
   ]
  },
  {
   "cell_type": "code",
   "execution_count": 295,
   "metadata": {},
   "outputs": [
    {
     "data": {
      "text/html": [
       "<table class=\"dataframe\">\n",
       "<caption>A tibble: 5 × 2</caption>\n",
       "<thead>\n",
       "\t<tr><th scope=col>.pred</th><th scope=col>truth</th></tr>\n",
       "\t<tr><th scope=col>&lt;dbl&gt;</th><th scope=col>&lt;dbl&gt;</th></tr>\n",
       "</thead>\n",
       "<tbody>\n",
       "\t<tr><td>0.005281921</td><td>0.00</td></tr>\n",
       "\t<tr><td>0.005246477</td><td>0.00</td></tr>\n",
       "\t<tr><td>0.003545205</td><td>0.00</td></tr>\n",
       "\t<tr><td>0.005281921</td><td>0.58</td></tr>\n",
       "\t<tr><td>0.004218625</td><td>0.00</td></tr>\n",
       "</tbody>\n",
       "</table>\n"
      ],
      "text/latex": [
       "A tibble: 5 × 2\n",
       "\\begin{tabular}{ll}\n",
       " .pred & truth\\\\\n",
       " <dbl> & <dbl>\\\\\n",
       "\\hline\n",
       "\t 0.005281921 & 0.00\\\\\n",
       "\t 0.005246477 & 0.00\\\\\n",
       "\t 0.003545205 & 0.00\\\\\n",
       "\t 0.005281921 & 0.58\\\\\n",
       "\t 0.004218625 & 0.00\\\\\n",
       "\\end{tabular}\n"
      ],
      "text/markdown": [
       "\n",
       "A tibble: 5 × 2\n",
       "\n",
       "| .pred &lt;dbl&gt; | truth &lt;dbl&gt; |\n",
       "|---|---|\n",
       "| 0.005281921 | 0.00 |\n",
       "| 0.005246477 | 0.00 |\n",
       "| 0.003545205 | 0.00 |\n",
       "| 0.005281921 | 0.58 |\n",
       "| 0.004218625 | 0.00 |\n",
       "\n"
      ],
      "text/plain": [
       "  .pred       truth\n",
       "1 0.005281921 0.00 \n",
       "2 0.005246477 0.00 \n",
       "3 0.003545205 0.00 \n",
       "4 0.005281921 0.58 \n",
       "5 0.004218625 0.00 "
      ]
     },
     "metadata": {},
     "output_type": "display_data"
    }
   ],
   "source": [
    "lm_spec <- linear_reg() %>%\n",
    "  set_engine(engine = \"lm\")\n",
    "train_fit <- lm_spec %>% \n",
    "    fit(precip ~ dry_bulb_temp_f, data = train_data)\n",
    "train_resBulb <- train_fit %>%\n",
    "  predict(new_data = train_data) %>%\n",
    "  mutate(truth = train_data$precip)\n",
    "head(train_resBulb,5)"
   ]
  },
  {
   "cell_type": "code",
   "execution_count": 296,
   "metadata": {},
   "outputs": [
    {
     "data": {
      "text/html": [
       "<table class=\"dataframe\">\n",
       "<caption>A tibble: 5 × 2</caption>\n",
       "<thead>\n",
       "\t<tr><th scope=col>.pred</th><th scope=col>truth</th></tr>\n",
       "\t<tr><th scope=col>&lt;dbl&gt;</th><th scope=col>&lt;dbl&gt;</th></tr>\n",
       "</thead>\n",
       "<tbody>\n",
       "\t<tr><td>0.003481186</td><td>0.00</td></tr>\n",
       "\t<tr><td>0.003772665</td><td>0.00</td></tr>\n",
       "\t<tr><td>0.004064143</td><td>0.00</td></tr>\n",
       "\t<tr><td>0.005230056</td><td>0.58</td></tr>\n",
       "\t<tr><td>0.004355621</td><td>0.00</td></tr>\n",
       "</tbody>\n",
       "</table>\n"
      ],
      "text/latex": [
       "A tibble: 5 × 2\n",
       "\\begin{tabular}{ll}\n",
       " .pred & truth\\\\\n",
       " <dbl> & <dbl>\\\\\n",
       "\\hline\n",
       "\t 0.003481186 & 0.00\\\\\n",
       "\t 0.003772665 & 0.00\\\\\n",
       "\t 0.004064143 & 0.00\\\\\n",
       "\t 0.005230056 & 0.58\\\\\n",
       "\t 0.004355621 & 0.00\\\\\n",
       "\\end{tabular}\n"
      ],
      "text/markdown": [
       "\n",
       "A tibble: 5 × 2\n",
       "\n",
       "| .pred &lt;dbl&gt; | truth &lt;dbl&gt; |\n",
       "|---|---|\n",
       "| 0.003481186 | 0.00 |\n",
       "| 0.003772665 | 0.00 |\n",
       "| 0.004064143 | 0.00 |\n",
       "| 0.005230056 | 0.58 |\n",
       "| 0.004355621 | 0.00 |\n",
       "\n"
      ],
      "text/plain": [
       "  .pred       truth\n",
       "1 0.003481186 0.00 \n",
       "2 0.003772665 0.00 \n",
       "3 0.004064143 0.00 \n",
       "4 0.005230056 0.58 \n",
       "5 0.004355621 0.00 "
      ]
     },
     "metadata": {},
     "output_type": "display_data"
    }
   ],
   "source": [
    "lm_spec <- linear_reg() %>%\n",
    "  set_engine(engine = \"lm\")\n",
    "train_fit <- lm_spec %>% \n",
    "    fit(precip ~ wind_speed, data = train_data)\n",
    "train_resWind <- train_fit %>%\n",
    "  predict(new_data = train_data) %>%\n",
    "  mutate(truth = train_data$precip)\n",
    "head(train_resWind,5)"
   ]
  },
  {
   "cell_type": "code",
   "execution_count": 297,
   "metadata": {},
   "outputs": [
    {
     "data": {
      "text/html": [
       "<table class=\"dataframe\">\n",
       "<caption>A tibble: 5 × 2</caption>\n",
       "<thead>\n",
       "\t<tr><th scope=col>.pred</th><th scope=col>truth</th></tr>\n",
       "\t<tr><th scope=col>&lt;dbl&gt;</th><th scope=col>&lt;dbl&gt;</th></tr>\n",
       "</thead>\n",
       "<tbody>\n",
       "\t<tr><td>0.004675874</td><td>0.00</td></tr>\n",
       "\t<tr><td>0.004708747</td><td>0.00</td></tr>\n",
       "\t<tr><td>0.004753222</td><td>0.00</td></tr>\n",
       "\t<tr><td>0.004671040</td><td>0.58</td></tr>\n",
       "\t<tr><td>0.004731951</td><td>0.00</td></tr>\n",
       "</tbody>\n",
       "</table>\n"
      ],
      "text/latex": [
       "A tibble: 5 × 2\n",
       "\\begin{tabular}{ll}\n",
       " .pred & truth\\\\\n",
       " <dbl> & <dbl>\\\\\n",
       "\\hline\n",
       "\t 0.004675874 & 0.00\\\\\n",
       "\t 0.004708747 & 0.00\\\\\n",
       "\t 0.004753222 & 0.00\\\\\n",
       "\t 0.004671040 & 0.58\\\\\n",
       "\t 0.004731951 & 0.00\\\\\n",
       "\\end{tabular}\n"
      ],
      "text/markdown": [
       "\n",
       "A tibble: 5 × 2\n",
       "\n",
       "| .pred &lt;dbl&gt; | truth &lt;dbl&gt; |\n",
       "|---|---|\n",
       "| 0.004675874 | 0.00 |\n",
       "| 0.004708747 | 0.00 |\n",
       "| 0.004753222 | 0.00 |\n",
       "| 0.004671040 | 0.58 |\n",
       "| 0.004731951 | 0.00 |\n",
       "\n"
      ],
      "text/plain": [
       "  .pred       truth\n",
       "1 0.004675874 0.00 \n",
       "2 0.004708747 0.00 \n",
       "3 0.004753222 0.00 \n",
       "4 0.004671040 0.58 \n",
       "5 0.004731951 0.00 "
      ]
     },
     "metadata": {},
     "output_type": "display_data"
    }
   ],
   "source": [
    "lm_spec <- linear_reg() %>%\n",
    "  set_engine(engine = \"lm\")\n",
    "train_fit <- lm_spec %>% \n",
    "    fit(precip ~ station_pressure, data = train_data)\n",
    "train_resStp <- train_fit %>%\n",
    "  predict(new_data = train_data) %>%\n",
    "  mutate(truth = train_data$precip)\n",
    "head(train_resStp,5)"
   ]
  },
  {
   "cell_type": "markdown",
   "metadata": {},
   "source": [
    "#### Test_results computation "
   ]
  },
  {
   "cell_type": "code",
   "execution_count": 298,
   "metadata": {},
   "outputs": [
    {
     "data": {
      "text/html": [
       "<table class=\"dataframe\">\n",
       "<caption>A tibble: 5 × 2</caption>\n",
       "<thead>\n",
       "\t<tr><th scope=col>.pred</th><th scope=col>truth</th></tr>\n",
       "\t<tr><th scope=col>&lt;dbl&gt;</th><th scope=col>&lt;dbl&gt;</th></tr>\n",
       "</thead>\n",
       "<tbody>\n",
       "\t<tr><td>0.004691344</td><td>0</td></tr>\n",
       "\t<tr><td>0.004684576</td><td>0</td></tr>\n",
       "\t<tr><td>0.004726150</td><td>0</td></tr>\n",
       "\t<tr><td>0.004716482</td><td>0</td></tr>\n",
       "\t<tr><td>0.004686509</td><td>0</td></tr>\n",
       "</tbody>\n",
       "</table>\n"
      ],
      "text/latex": [
       "A tibble: 5 × 2\n",
       "\\begin{tabular}{ll}\n",
       " .pred & truth\\\\\n",
       " <dbl> & <dbl>\\\\\n",
       "\\hline\n",
       "\t 0.004691344 & 0\\\\\n",
       "\t 0.004684576 & 0\\\\\n",
       "\t 0.004726150 & 0\\\\\n",
       "\t 0.004716482 & 0\\\\\n",
       "\t 0.004686509 & 0\\\\\n",
       "\\end{tabular}\n"
      ],
      "text/markdown": [
       "\n",
       "A tibble: 5 × 2\n",
       "\n",
       "| .pred &lt;dbl&gt; | truth &lt;dbl&gt; |\n",
       "|---|---|\n",
       "| 0.004691344 | 0 |\n",
       "| 0.004684576 | 0 |\n",
       "| 0.004726150 | 0 |\n",
       "| 0.004716482 | 0 |\n",
       "| 0.004686509 | 0 |\n",
       "\n"
      ],
      "text/plain": [
       "  .pred       truth\n",
       "1 0.004691344 0    \n",
       "2 0.004684576 0    \n",
       "3 0.004726150 0    \n",
       "4 0.004716482 0    \n",
       "5 0.004686509 0    "
      ]
     },
     "metadata": {},
     "output_type": "display_data"
    }
   ],
   "source": [
    "test_results <- train_fit %>% \n",
    "  predict(new_data = test_data) %>%\n",
    "  mutate(truth = test_data$precip)\n",
    "\n",
    "head(test_results,5)"
   ]
  },
  {
   "cell_type": "markdown",
   "metadata": {},
   "source": [
    "#### Visualizing the training and testing model"
   ]
  },
  {
   "cell_type": "code",
   "execution_count": 351,
   "metadata": {},
   "outputs": [
    {
     "data": {
      "image/png": "[encoded data removed]",
      "text/plain": [
       "plot without title"
      ]
     },
     "metadata": {
      "image/png": {
       "height": 420,
       "width": 420
      }
     },
     "output_type": "display_data"
    }
   ],
   "source": [
    "test_results %>%\n",
    "  mutate(train = \"Test Data\") %>%\n",
    "  bind_rows(train_results %>% mutate(train = \"Train Data\")) %>%\n",
    "  ggplot(aes(truth, .pred)) +\n",
    "  geom_abline(lty = 3, color = \"red\", \n",
    "              size = 2) +\n",
    "  geom_jitter(color = 'royalblue', \n",
    "             alpha = 0.3) +\n",
    "  facet_wrap(~train) +\n",
    "  labs(x = \"Truth\", \n",
    "       y = \"Predicted precipitation\")"
   ]
  },
  {
   "cell_type": "markdown",
   "metadata": {},
   "source": [
    "Similarly, we can visualise the rest of the models "
   ]
  },
  {
   "cell_type": "markdown",
   "metadata": {},
   "source": [
    "<a id=\"cell9\"></a>\n",
    "## 9. Improve the Model\n",
    "Now, try improving the simple models you created in the previous section. \n",
    "\n",
    "Create at least two more models, each model should use at least one of the different techniques:\n",
    "1. Add more features/predictors\n",
    "2. Add regularization (L1, L2 or a mix)\n",
    "3. Add a polynomial component\n",
    "\n",
    "Also, for each of the models you create, check the model performance using the **training set** and a metric like MSE, RMSE, or R-squared.\n",
    "\n",
    "Consider using `tidymodels` if you choose to add regularization and tune lambda.\n"
   ]
  },
  {
   "cell_type": "markdown",
   "metadata": {},
   "source": [
    "#### Adding predictors"
   ]
  },
  {
   "cell_type": "code",
   "execution_count": 357,
   "metadata": {},
   "outputs": [],
   "source": [
    "lm_spec <- linear_reg() %>%\n",
    "  set_engine(engine = \"lm\")\n",
    "train_fit <- lm_spec %>% \n",
    "    fit(precip ~ relative_humidity + wind_speed + station_pressure, data = train_data)\n",
    "train_resPre <- train_fit %>%\n",
    "  predict(new_data = train_data) %>%\n",
    "  mutate(truth = train_data$precip)"
   ]
  },
  {
   "cell_type": "code",
   "execution_count": 398,
   "metadata": {},
   "outputs": [
    {
     "data": {
      "image/png": "[encoded data removed]",
      "text/plain": [
       "plot without title"
      ]
     },
     "metadata": {
      "image/png": {
       "height": 420,
       "width": 420
      }
     },
     "output_type": "display_data"
    }
   ],
   "source": [
    "ggplot(weth_dfren, aes(x = relative_humidity + wind_speed + station_pressure, y = precip)) + \n",
    "    geom_point() + \n",
    "    geom_smooth(method = \"lm\", \n",
    "                formula = y ~ x ,\n",
    "                col = \"red\", se = FALSE) +\n",
    "    labs(x = \"WspeedHumidityPressure \",\n",
    "        y = \"Precipitation\",\n",
    "        title = \"MLR\") +\n",
    "    theme(plot.title = element_text(hjust = 0.5))"
   ]
  },
  {
   "cell_type": "code",
   "execution_count": 407,
   "metadata": {},
   "outputs": [],
   "source": [
    "model_2 <- linear_reg() %>%\n",
    "  set_engine(engine = \"lm\")\n",
    "train_fit <- model_2 %>% \n",
    "    fit(precip ~ poly(relative_humidity,3, raw = T), data = train_data)\n",
    "train_resPoly <- train_fit %>%\n",
    "  predict(new_data = train_data) %>%\n",
    "  mutate(truth = train_data$precip)"
   ]
  },
  {
   "cell_type": "code",
   "execution_count": 413,
   "metadata": {},
   "outputs": [
    {
     "data": {
      "image/png": "[encoded data removed]",
      "text/plain": [
       "plot without title"
      ]
     },
     "metadata": {
      "image/png": {
       "height": 420,
       "width": 420
      }
     },
     "output_type": "display_data"
    }
   ],
   "source": [
    "ggplot(weth_dfren, aes(x = relative_humidity, y = precip)) + \n",
    "    geom_point() + \n",
    "    geom_smooth(method = \"lm\", \n",
    "                formula = y ~ poly(x,3) ,\n",
    "                col = \"red\", se = FALSE) +\n",
    "    labs(x = \"Humidity \",\n",
    "        y = \"Precipitation\",\n",
    "        title = \"Polynomial Reg\") + \n",
    "        theme(plot.title = element_text(hjust = 0.5))"
   ]
  },
  {
   "cell_type": "code",
   "execution_count": 377,
   "metadata": {},
   "outputs": [],
   "source": [
    "weath_recipe <-\n",
    "  recipe(precip ~ ., data = train_data)\n"
   ]
  },
  {
   "cell_type": "code",
   "execution_count": 378,
   "metadata": {},
   "outputs": [],
   "source": [
    "lasso_spec <- linear_reg(penalty = 0.1, mixture = 1) %>%\n",
    "  set_engine(\"glmnet\")"
   ]
  },
  {
   "cell_type": "code",
   "execution_count": 379,
   "metadata": {},
   "outputs": [],
   "source": [
    "lasso_wf <- workflow() %>%\n",
    "  add_recipe(weath_recipe)"
   ]
  },
  {
   "cell_type": "code",
   "execution_count": 380,
   "metadata": {},
   "outputs": [],
   "source": [
    "lasso_fit <- ridge_wf %>%\n",
    "  add_model(ridge_spec) %>%\n",
    "  fit(data = train_data)\n",
    "  "
   ]
  },
  {
   "cell_type": "code",
   "execution_count": 381,
   "metadata": {},
   "outputs": [
    {
     "data": {
      "text/html": [
       "<table class=\"dataframe\">\n",
       "<caption>A tibble: 5 × 3</caption>\n",
       "<thead>\n",
       "\t<tr><th scope=col>term</th><th scope=col>estimate</th><th scope=col>penalty</th></tr>\n",
       "\t<tr><th scope=col>&lt;chr&gt;</th><th scope=col>&lt;dbl&gt;</th><th scope=col>&lt;dbl&gt;</th></tr>\n",
       "</thead>\n",
       "<tbody>\n",
       "\t<tr><td>(Intercept)      </td><td>0.004614713</td><td>0.1</td></tr>\n",
       "\t<tr><td>relative_humidity</td><td>0.000000000</td><td>0.1</td></tr>\n",
       "\t<tr><td>dry_bulb_temp_f  </td><td>0.000000000</td><td>0.1</td></tr>\n",
       "\t<tr><td>wind_speed       </td><td>0.000000000</td><td>0.1</td></tr>\n",
       "\t<tr><td>station_pressure </td><td>0.000000000</td><td>0.1</td></tr>\n",
       "</tbody>\n",
       "</table>\n"
      ],
      "text/latex": [
       "A tibble: 5 × 3\n",
       "\\begin{tabular}{lll}\n",
       " term & estimate & penalty\\\\\n",
       " <chr> & <dbl> & <dbl>\\\\\n",
       "\\hline\n",
       "\t (Intercept)       & 0.004614713 & 0.1\\\\\n",
       "\t relative\\_humidity & 0.000000000 & 0.1\\\\\n",
       "\t dry\\_bulb\\_temp\\_f   & 0.000000000 & 0.1\\\\\n",
       "\t wind\\_speed        & 0.000000000 & 0.1\\\\\n",
       "\t station\\_pressure  & 0.000000000 & 0.1\\\\\n",
       "\\end{tabular}\n"
      ],
      "text/markdown": [
       "\n",
       "A tibble: 5 × 3\n",
       "\n",
       "| term &lt;chr&gt; | estimate &lt;dbl&gt; | penalty &lt;dbl&gt; |\n",
       "|---|---|---|\n",
       "| (Intercept)       | 0.004614713 | 0.1 |\n",
       "| relative_humidity | 0.000000000 | 0.1 |\n",
       "| dry_bulb_temp_f   | 0.000000000 | 0.1 |\n",
       "| wind_speed        | 0.000000000 | 0.1 |\n",
       "| station_pressure  | 0.000000000 | 0.1 |\n",
       "\n"
      ],
      "text/plain": [
       "  term              estimate    penalty\n",
       "1 (Intercept)       0.004614713 0.1    \n",
       "2 relative_humidity 0.000000000 0.1    \n",
       "3 dry_bulb_temp_f   0.000000000 0.1    \n",
       "4 wind_speed        0.000000000 0.1    \n",
       "5 station_pressure  0.000000000 0.1    "
      ]
     },
     "metadata": {},
     "output_type": "display_data"
    }
   ],
   "source": [
    "lasso_fit %>%\n",
    "  extract_fit_parsnip() %>%\n",
    "  tidy()"
   ]
  },
  {
   "cell_type": "code",
   "execution_count": 409,
   "metadata": {},
   "outputs": [
    {
     "data": {
      "text/html": [
       "<table class=\"dataframe\">\n",
       "<caption>A tibble: 1 × 3</caption>\n",
       "<thead>\n",
       "\t<tr><th scope=col>.metric</th><th scope=col>.estimator</th><th scope=col>.estimate</th></tr>\n",
       "\t<tr><th scope=col>&lt;chr&gt;</th><th scope=col>&lt;chr&gt;</th><th scope=col>&lt;dbl&gt;</th></tr>\n",
       "</thead>\n",
       "<tbody>\n",
       "\t<tr><td>rsq</td><td>standard</td><td>0.03525703</td></tr>\n",
       "</tbody>\n",
       "</table>\n"
      ],
      "text/latex": [
       "A tibble: 1 × 3\n",
       "\\begin{tabular}{lll}\n",
       " .metric & .estimator & .estimate\\\\\n",
       " <chr> & <chr> & <dbl>\\\\\n",
       "\\hline\n",
       "\t rsq & standard & 0.03525703\\\\\n",
       "\\end{tabular}\n"
      ],
      "text/markdown": [
       "\n",
       "A tibble: 1 × 3\n",
       "\n",
       "| .metric &lt;chr&gt; | .estimator &lt;chr&gt; | .estimate &lt;dbl&gt; |\n",
       "|---|---|---|\n",
       "| rsq | standard | 0.03525703 |\n",
       "\n"
      ],
      "text/plain": [
       "  .metric .estimator .estimate \n",
       "1 rsq     standard   0.03525703"
      ]
     },
     "metadata": {},
     "output_type": "display_data"
    }
   ],
   "source": [
    "rsq(train_resPoly, truth = truth,\n",
    "    estimate = .pred)"
   ]
  },
  {
   "cell_type": "code",
   "execution_count": 383,
   "metadata": {},
   "outputs": [
    {
     "data": {
      "text/html": [
       "<table class=\"dataframe\">\n",
       "<caption>A tibble: 1 × 3</caption>\n",
       "<thead>\n",
       "\t<tr><th scope=col>.metric</th><th scope=col>.estimator</th><th scope=col>.estimate</th></tr>\n",
       "\t<tr><th scope=col>&lt;chr&gt;</th><th scope=col>&lt;chr&gt;</th><th scope=col>&lt;dbl&gt;</th></tr>\n",
       "</thead>\n",
       "<tbody>\n",
       "\t<tr><td>rsq</td><td>standard</td><td>0.02032425</td></tr>\n",
       "</tbody>\n",
       "</table>\n"
      ],
      "text/latex": [
       "A tibble: 1 × 3\n",
       "\\begin{tabular}{lll}\n",
       " .metric & .estimator & .estimate\\\\\n",
       " <chr> & <chr> & <dbl>\\\\\n",
       "\\hline\n",
       "\t rsq & standard & 0.02032425\\\\\n",
       "\\end{tabular}\n"
      ],
      "text/markdown": [
       "\n",
       "A tibble: 1 × 3\n",
       "\n",
       "| .metric &lt;chr&gt; | .estimator &lt;chr&gt; | .estimate &lt;dbl&gt; |\n",
       "|---|---|---|\n",
       "| rsq | standard | 0.02032425 |\n",
       "\n"
      ],
      "text/plain": [
       "  .metric .estimator .estimate \n",
       "1 rsq     standard   0.02032425"
      ]
     },
     "metadata": {},
     "output_type": "display_data"
    }
   ],
   "source": [
    "rsq(train_results, truth = truth,\n",
    "    estimate = .pred)"
   ]
  },
  {
   "cell_type": "code",
   "execution_count": 411,
   "metadata": {},
   "outputs": [
    {
     "data": {
      "text/html": [
       "<table class=\"dataframe\">\n",
       "<caption>A tibble: 1 × 3</caption>\n",
       "<thead>\n",
       "\t<tr><th scope=col>.metric</th><th scope=col>.estimator</th><th scope=col>.estimate</th></tr>\n",
       "\t<tr><th scope=col>&lt;chr&gt;</th><th scope=col>&lt;chr&gt;</th><th scope=col>&lt;dbl&gt;</th></tr>\n",
       "</thead>\n",
       "<tbody>\n",
       "\t<tr><td>rsq</td><td>standard</td><td>0.03015292</td></tr>\n",
       "</tbody>\n",
       "</table>\n"
      ],
      "text/latex": [
       "A tibble: 1 × 3\n",
       "\\begin{tabular}{lll}\n",
       " .metric & .estimator & .estimate\\\\\n",
       " <chr> & <chr> & <dbl>\\\\\n",
       "\\hline\n",
       "\t rsq & standard & 0.03015292\\\\\n",
       "\\end{tabular}\n"
      ],
      "text/markdown": [
       "\n",
       "A tibble: 1 × 3\n",
       "\n",
       "| .metric &lt;chr&gt; | .estimator &lt;chr&gt; | .estimate &lt;dbl&gt; |\n",
       "|---|---|---|\n",
       "| rsq | standard | 0.03015292 |\n",
       "\n"
      ],
      "text/plain": [
       "  .metric .estimator .estimate \n",
       "1 rsq     standard   0.03015292"
      ]
     },
     "metadata": {},
     "output_type": "display_data"
    }
   ],
   "source": [
    "rsq(train_resPre, truth = truth,\n",
    "    estimate = .pred)"
   ]
  },
  {
   "cell_type": "markdown",
   "metadata": {},
   "source": [
    "<a id=\"cell10\"></a>\n",
    "## 10. Find Best Model\n",
    "Compare the regression metrics of each model from section 9 to find the best model overall. To do this, \n",
    "\n",
    "1. Evaluate the models on the **testing set** using at least one metric (like MSE, RMSE or R-squared).\n",
    "2. After calculating the metrics on the testing set for each model, print them out in as a table to easily compare. You can use something like:\n",
    "```\n",
    "model_names <- c(\"model_1\", \"model_2\", \"model_3\")\n",
    "train_error <- c(\"model_1_value\", \"model_2_value\", \"model_3_value\")\n",
    "test_error <- c(\"model_1_value\", \"model_2_value\", \"model_3_value\")\n",
    "comparison_df <- data.frame(model_names, train_error, test_error)\n",
    "```\n",
    "3. Finally, from the comparison table you create, conclude which model performed the best.\n"
   ]
  },
  {
   "cell_type": "code",
   "execution_count": 388,
   "metadata": {},
   "outputs": [
    {
     "data": {
      "text/html": [
       "<table class=\"dataframe\">\n",
       "<caption>A tibble: 2 × 6</caption>\n",
       "<thead>\n",
       "\t<tr><th scope=col>.metric</th><th scope=col>.estimator</th><th scope=col>mean</th><th scope=col>n</th><th scope=col>std_err</th><th scope=col>.config</th></tr>\n",
       "\t<tr><th scope=col>&lt;chr&gt;</th><th scope=col>&lt;chr&gt;</th><th scope=col>&lt;dbl&gt;</th><th scope=col>&lt;int&gt;</th><th scope=col>&lt;dbl&gt;</th><th scope=col>&lt;chr&gt;</th></tr>\n",
       "</thead>\n",
       "<tbody>\n",
       "\t<tr><td>rmse</td><td>standard</td><td>0.02480978</td><td>10</td><td>0.004494229</td><td>Preprocessor1_Model1</td></tr>\n",
       "\t<tr><td>rsq </td><td>standard</td><td>0.11049885</td><td>10</td><td>0.013854313</td><td>Preprocessor1_Model1</td></tr>\n",
       "</tbody>\n",
       "</table>\n"
      ],
      "text/latex": [
       "A tibble: 2 × 6\n",
       "\\begin{tabular}{llllll}\n",
       " .metric & .estimator & mean & n & std\\_err & .config\\\\\n",
       " <chr> & <chr> & <dbl> & <int> & <dbl> & <chr>\\\\\n",
       "\\hline\n",
       "\t rmse & standard & 0.02480978 & 10 & 0.004494229 & Preprocessor1\\_Model1\\\\\n",
       "\t rsq  & standard & 0.11049885 & 10 & 0.013854313 & Preprocessor1\\_Model1\\\\\n",
       "\\end{tabular}\n"
      ],
      "text/markdown": [
       "\n",
       "A tibble: 2 × 6\n",
       "\n",
       "| .metric &lt;chr&gt; | .estimator &lt;chr&gt; | mean &lt;dbl&gt; | n &lt;int&gt; | std_err &lt;dbl&gt; | .config &lt;chr&gt; |\n",
       "|---|---|---|---|---|---|\n",
       "| rmse | standard | 0.02480978 | 10 | 0.004494229 | Preprocessor1_Model1 |\n",
       "| rsq  | standard | 0.11049885 | 10 | 0.013854313 | Preprocessor1_Model1 |\n",
       "\n"
      ],
      "text/plain": [
       "  .metric .estimator mean       n  std_err     .config             \n",
       "1 rmse    standard   0.02480978 10 0.004494229 Preprocessor1_Model1\n",
       "2 rsq     standard   0.11049885 10 0.013854313 Preprocessor1_Model1"
      ]
     },
     "metadata": {},
     "output_type": "display_data"
    }
   ],
   "source": [
    "set.seed(1234)\n",
    "cv_folds <- vfold_cv(test_data, v = 10)\n",
    "results <- fit_resamples(lm_spec, \n",
    "                         precip ~ relative_humidity + wind_speed + station_pressure ,\n",
    "                         resamples = cv_folds)\n",
    "results %>% collect_metrics()"
   ]
  },
  {
   "cell_type": "code",
   "execution_count": 389,
   "metadata": {},
   "outputs": [
    {
     "data": {
      "text/html": [
       "<table class=\"dataframe\">\n",
       "<caption>A tibble: 2 × 6</caption>\n",
       "<thead>\n",
       "\t<tr><th scope=col>.metric</th><th scope=col>.estimator</th><th scope=col>mean</th><th scope=col>n</th><th scope=col>std_err</th><th scope=col>.config</th></tr>\n",
       "\t<tr><th scope=col>&lt;chr&gt;</th><th scope=col>&lt;chr&gt;</th><th scope=col>&lt;dbl&gt;</th><th scope=col>&lt;int&gt;</th><th scope=col>&lt;dbl&gt;</th><th scope=col>&lt;chr&gt;</th></tr>\n",
       "</thead>\n",
       "<tbody>\n",
       "\t<tr><td>rmse</td><td>standard</td><td>0.02509331</td><td>10</td><td>0.004543972</td><td>Preprocessor1_Model1</td></tr>\n",
       "\t<tr><td>rsq </td><td>standard</td><td>0.08147714</td><td>10</td><td>0.009690204</td><td>Preprocessor1_Model1</td></tr>\n",
       "</tbody>\n",
       "</table>\n"
      ],
      "text/latex": [
       "A tibble: 2 × 6\n",
       "\\begin{tabular}{llllll}\n",
       " .metric & .estimator & mean & n & std\\_err & .config\\\\\n",
       " <chr> & <chr> & <dbl> & <int> & <dbl> & <chr>\\\\\n",
       "\\hline\n",
       "\t rmse & standard & 0.02509331 & 10 & 0.004543972 & Preprocessor1\\_Model1\\\\\n",
       "\t rsq  & standard & 0.08147714 & 10 & 0.009690204 & Preprocessor1\\_Model1\\\\\n",
       "\\end{tabular}\n"
      ],
      "text/markdown": [
       "\n",
       "A tibble: 2 × 6\n",
       "\n",
       "| .metric &lt;chr&gt; | .estimator &lt;chr&gt; | mean &lt;dbl&gt; | n &lt;int&gt; | std_err &lt;dbl&gt; | .config &lt;chr&gt; |\n",
       "|---|---|---|---|---|---|\n",
       "| rmse | standard | 0.02509331 | 10 | 0.004543972 | Preprocessor1_Model1 |\n",
       "| rsq  | standard | 0.08147714 | 10 | 0.009690204 | Preprocessor1_Model1 |\n",
       "\n"
      ],
      "text/plain": [
       "  .metric .estimator mean       n  std_err     .config             \n",
       "1 rmse    standard   0.02509331 10 0.004543972 Preprocessor1_Model1\n",
       "2 rsq     standard   0.08147714 10 0.009690204 Preprocessor1_Model1"
      ]
     },
     "metadata": {},
     "output_type": "display_data"
    }
   ],
   "source": [
    "set.seed(1234)\n",
    "cv_folds <- vfold_cv(test_data, v = 10)\n",
    "results <- fit_resamples(lm_spec, \n",
    "                         precip ~ relative_humidity + wind_speed,\n",
    "                         resamples = cv_folds)\n",
    "results %>% collect_metrics()"
   ]
  },
  {
   "cell_type": "code",
   "execution_count": 390,
   "metadata": {},
   "outputs": [
    {
     "data": {
      "text/html": [
       "<table class=\"dataframe\">\n",
       "<caption>A tibble: 2 × 6</caption>\n",
       "<thead>\n",
       "\t<tr><th scope=col>.metric</th><th scope=col>.estimator</th><th scope=col>mean</th><th scope=col>n</th><th scope=col>std_err</th><th scope=col>.config</th></tr>\n",
       "\t<tr><th scope=col>&lt;chr&gt;</th><th scope=col>&lt;chr&gt;</th><th scope=col>&lt;dbl&gt;</th><th scope=col>&lt;int&gt;</th><th scope=col>&lt;dbl&gt;</th><th scope=col>&lt;chr&gt;</th></tr>\n",
       "</thead>\n",
       "<tbody>\n",
       "\t<tr><td>rmse</td><td>standard</td><td>0.02526786</td><td>10</td><td>0.004657840</td><td>Preprocessor1_Model1</td></tr>\n",
       "\t<tr><td>rsq </td><td>standard</td><td>0.05438510</td><td>10</td><td>0.007041669</td><td>Preprocessor1_Model1</td></tr>\n",
       "</tbody>\n",
       "</table>\n"
      ],
      "text/latex": [
       "A tibble: 2 × 6\n",
       "\\begin{tabular}{llllll}\n",
       " .metric & .estimator & mean & n & std\\_err & .config\\\\\n",
       " <chr> & <chr> & <dbl> & <int> & <dbl> & <chr>\\\\\n",
       "\\hline\n",
       "\t rmse & standard & 0.02526786 & 10 & 0.004657840 & Preprocessor1\\_Model1\\\\\n",
       "\t rsq  & standard & 0.05438510 & 10 & 0.007041669 & Preprocessor1\\_Model1\\\\\n",
       "\\end{tabular}\n"
      ],
      "text/markdown": [
       "\n",
       "A tibble: 2 × 6\n",
       "\n",
       "| .metric &lt;chr&gt; | .estimator &lt;chr&gt; | mean &lt;dbl&gt; | n &lt;int&gt; | std_err &lt;dbl&gt; | .config &lt;chr&gt; |\n",
       "|---|---|---|---|---|---|\n",
       "| rmse | standard | 0.02526786 | 10 | 0.004657840 | Preprocessor1_Model1 |\n",
       "| rsq  | standard | 0.05438510 | 10 | 0.007041669 | Preprocessor1_Model1 |\n",
       "\n"
      ],
      "text/plain": [
       "  .metric .estimator mean       n  std_err     .config             \n",
       "1 rmse    standard   0.02526786 10 0.004657840 Preprocessor1_Model1\n",
       "2 rsq     standard   0.05438510 10 0.007041669 Preprocessor1_Model1"
      ]
     },
     "metadata": {},
     "output_type": "display_data"
    }
   ],
   "source": [
    "set.seed(1234)\n",
    "cv_folds <- vfold_cv(test_data, v = 10)\n",
    "results <- fit_resamples(lm_spec, \n",
    "                         precip ~ relative_humidity,\n",
    "                         resamples = cv_folds)\n",
    "results %>% collect_metrics()"
   ]
  },
  {
   "cell_type": "markdown",
   "metadata": {},
   "source": [
    "According to me, MLR model performed the best."
   ]
  },
  {
   "cell_type": "markdown",
   "metadata": {},
   "source": [
    "## Author(s)\n",
    "\n",
    "<h4> Yiwen Li </h4>\n",
    "\n",
    "## Contributions\n",
    "\n",
    "<h4> Tiffany Zhu </h4>\n",
    "\n",
    "## <h3 align=\"center\"> © IBM Corporation 2021. All rights reserved. <h3/>\n"
   ]
  }
 ],
 "metadata": {
  "kernelspec": {
   "display_name": "R",
   "language": "R",
   "name": "ir"
  },
  "language_info": {
   "codemirror_mode": "r",
   "file_extension": ".r",
   "mimetype": "text/x-r-source",
   "name": "R",
   "pygments_lexer": "r",
   "version": "4.3.2"
  }
 },
 "nbformat": 4,
 "nbformat_minor": 4
}
